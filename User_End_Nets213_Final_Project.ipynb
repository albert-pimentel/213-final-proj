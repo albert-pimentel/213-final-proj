{
  "nbformat": 4,
  "nbformat_minor": 0,
  "metadata": {
    "colab": {
      "name": "User-End Nets213 Final Project ",
      "provenance": [],
      "collapsed_sections": [
        "STk-TPY_fs8w"
      ],
      "include_colab_link": true
    },
    "kernelspec": {
      "name": "python3",
      "display_name": "Python 3"
    },
    "language_info": {
      "name": "python"
    }
  },
  "cells": [
    {
      "cell_type": "markdown",
      "metadata": {
        "id": "view-in-github",
        "colab_type": "text"
      },
      "source": [
        "<a href=\"https://colab.research.google.com/github/albertpimentel/213-final-proj/blob/main/User_End_Nets213_Final_Project.ipynb\" target=\"_parent\"><img src=\"https://colab.research.google.com/assets/colab-badge.svg\" alt=\"Open In Colab\"/></a>"
      ]
    },
    {
      "cell_type": "markdown",
      "metadata": {
        "id": "GFfLf5CfxFrn"
      },
      "source": [
        "#Import Libraries#"
      ]
    },
    {
      "cell_type": "code",
      "metadata": {
        "id": "_m-5Cwxmt9Xq"
      },
      "source": [
        "from sklearn.neighbors import NearestNeighbors\n",
        "import pandas as pd\n",
        "import re\n",
        "from sklearn.preprocessing import OneHotEncoder"
      ],
      "execution_count": null,
      "outputs": []
    },
    {
      "cell_type": "code",
      "metadata": {
        "colab": {
          "base_uri": "https://localhost:8080/"
        },
        "id": "RztTXH0UgKEJ",
        "outputId": "7f4be7e2-c43d-4437-b77b-5120169eed24"
      },
      "source": [
        "from google.colab import drive\n",
        "drive.mount('/content/drive')"
      ],
      "execution_count": null,
      "outputs": [
        {
          "output_type": "stream",
          "text": [
            "Drive already mounted at /content/drive; to attempt to forcibly remount, call drive.mount(\"/content/drive\", force_remount=True).\n"
          ],
          "name": "stdout"
        }
      ]
    },
    {
      "cell_type": "markdown",
      "metadata": {
        "id": "STk-TPY_fs8w"
      },
      "source": [
        "#Data Preprocessing#"
      ]
    },
    {
      "cell_type": "code",
      "metadata": {
        "id": "1xgwHQ1Nc3Bo"
      },
      "source": [
        "# drop all rows that were used in mturk\n",
        "org_df = pd.read_csv('/content/drive/MyDrive/okcupid_profiles.csv') \n",
        "mturk_df = pd.read_csv('/content/drive/MyDrive/AGG_Output_Averages.csv') "
      ],
      "execution_count": null,
      "outputs": []
    },
    {
      "cell_type": "code",
      "metadata": {
        "id": "cx1XCfTqgrHd"
      },
      "source": [
        "profiles_df = org_df.drop(['essay0', 'essay1','essay2', 'essay3','essay4', 'essay5','essay6', 'essay7','essay8', 'essay9', 'income', 'last_online', 'status', 'ethnicity', 'height', 'location', 'speaks'], axis=1)\n"
      ],
      "execution_count": null,
      "outputs": []
    },
    {
      "cell_type": "code",
      "metadata": {
        "id": "nehq4tLtKM2B"
      },
      "source": [
        "def categorize_bodytype(data_frame):\n",
        "  for row_index in range(data_frame.shape[0]):\n",
        "      # Categorize body type\n",
        "      cell_value = data_frame['body_type'][row_index]\n",
        "      category = 'average'\n",
        "      if type(cell_value) != float and 'athletic' in cell_value:\n",
        "        category = 'fit'\n",
        "      if type(cell_value) != float and 'skinny' in cell_value:\n",
        "        category = 'thin'\n",
        "      if type(cell_value) != float and 'jacked' in cell_value:\n",
        "        category = 'fit'\n",
        "      if type(cell_value) != float and 'full figured' in cell_value:\n",
        "        category = 'curvy'\n",
        "      if type(cell_value) != float and 'a little extra' in cell_value:\n",
        "        category = 'curvy'\n",
        "      data_frame['body_type'][row_index]= category\n",
        "\n",
        "\n",
        "def categorize_diet(data_frame):\n",
        "  for row_index in range(data_frame.shape[0]):\n",
        "      # Categorize diet\n",
        "      cell_value = data_frame['diet'][row_index]\n",
        "      category = 'anything'\n",
        "      if type(cell_value) != float and 'vegetarian' in cell_value:\n",
        "        category = 'vegetarian'\n",
        "      if type(cell_value) != float and 'vegan' in cell_value:\n",
        "        category = 'vegan'\n",
        "      if type(cell_value) != float and 'halal' in cell_value:\n",
        "        category = 'halal'\n",
        "      data_frame['diet'][row_index]= category\n",
        "\n",
        "\n",
        "def categorize_religion(data_frame):\n",
        "  for row_index in range(data_frame.shape[0]):\n",
        "      # Categorize religion\n",
        "      cell_value = data_frame['religion'][row_index]\n",
        "      category = 'other'\n",
        "      if type(cell_value) != float and 'agnostic' in cell_value:\n",
        "        category = 'agnostic'\n",
        "      if type(cell_value) != float and 'atheist' in cell_value:\n",
        "        category = 'atheist'\n",
        "      if type(cell_value) != float and 'christian' in cell_value:\n",
        "        category = 'christian'\n",
        "      if type(cell_value) != float and 'catholicism' in cell_value:\n",
        "        category = 'catholicism'\n",
        "      if type(cell_value) != float and 'buddhism' in cell_value:\n",
        "        category = 'buddhism'\n",
        "      if type(cell_value) != float and 'hinduism' in cell_value:\n",
        "        category = 'hinduism'\n",
        "      if type(cell_value) != float and 'judaism' in cell_value:\n",
        "        category = 'judaism'\n",
        "      if type(cell_value) != float and 'islam' in cell_value:\n",
        "        category = 'islam'\n",
        "      data_frame['religion'][row_index]= category\n",
        "\n",
        "\n",
        "def categorize_sign(data_frame):\n",
        "  for row_index in range(data_frame.shape[0]):\n",
        "      # Categorize sign\n",
        "      cell_value = data_frame['sign'][row_index]\n",
        "      category = 'aquarius'\n",
        "      if type(cell_value) != float and 'pisces' in cell_value:\n",
        "        category = 'pisces'\n",
        "      if type(cell_value) != float and 'aries' in cell_value:\n",
        "        category = 'aries'\n",
        "      if type(cell_value) != float and 'taurus' in cell_value:\n",
        "        category = 'taurus'\n",
        "      if type(cell_value) != float and 'gemini' in cell_value:\n",
        "        category = 'gemini'\n",
        "      if type(cell_value) != float and 'cancer' in cell_value:\n",
        "        category = 'cancer'\n",
        "      if type(cell_value) != float and 'leo' in cell_value:\n",
        "        category = 'leo'\n",
        "      if type(cell_value) != float and 'virgo' in cell_value:\n",
        "        category = 'virgo'\n",
        "      if type(cell_value) != float and 'libra' in cell_value:\n",
        "        category = 'libra'\n",
        "      if type(cell_value) != float and 'scorpio' in cell_value:\n",
        "        category = 'scorpio'\n",
        "      if type(cell_value) != float and 'sagittarius' in cell_value:\n",
        "        category = 'sagittarius'\n",
        "      if type(cell_value) != float and 'capricorn' in cell_value:\n",
        "        category = 'capricorn'\n",
        "      data_frame['sign'][row_index]= category  \n",
        "\n",
        "\n",
        "def categorize_education(data_frame):\n",
        "  for row_index in range(data_frame.shape[0]):\n",
        "      # Categorize education\n",
        "      cell_value = data_frame['education'][row_index]\n",
        "      category = 'graduated college'\n",
        "      if type(cell_value) != float and 'dropped out of high school' in cell_value:\n",
        "        category = 'less than high school'\n",
        "      if type(cell_value) != float and 'working on high school' in cell_value:\n",
        "        category = 'less than high school'\n",
        "      if type(cell_value) != float and 'high school' in cell_value:\n",
        "        category = 'less than high school'\n",
        "      if type(cell_value) != float and 'graduated from high school' in cell_value:\n",
        "        category = 'graduated high school'\n",
        "      if type(cell_value) != float and 'dropped out of college/university' in cell_value:\n",
        "        category = 'graduated high school'\n",
        "      if type(cell_value) != float and 'dropped out of two-year college' in cell_value:\n",
        "        category = 'graduated high school'\n",
        "      if type(cell_value) != float and 'working on college/university' in cell_value:\n",
        "        category = 'in college'\n",
        "      if type(cell_value) != float and 'working on two-year college' in cell_value:\n",
        "        category = 'in college'\n",
        "      if type(cell_value) != float and 'college/university' in cell_value:\n",
        "        category = 'in college'\n",
        "      if type(cell_value) != float and 'two-year college' in cell_value:\n",
        "        category = 'in college'\n",
        "      data_frame['education'][row_index]= category\n",
        "\n",
        "\n",
        "# New categorize function\n",
        "def categorize_new(data_frame):\n",
        "  categorize_bodytype(data_frame)\n",
        "  categorize_diet(data_frame)\n",
        "  categorize_religion(data_frame)\n",
        "  categorize_sign(data_frame)\n",
        "  categorize_education(data_frame)\n"
      ],
      "execution_count": null,
      "outputs": []
    },
    {
      "cell_type": "code",
      "metadata": {
        "id": "Oyg2zmzZ9qDo"
      },
      "source": [
        "# Use mturk_df (AGG_Output_Averages.csv) to populate goldstandard_df\n",
        "goldstandard_data = []\n",
        "for row_index in range(mturk_df.shape[0]):\n",
        "  max_average = mturk_df['Max_average'][row_index]\n",
        "  # Find which rated person has the highest average rating for this profile, arbitarily choosing\n",
        "  # a profile in case of repeats (since profiles were already randomly selected)\n",
        "  highest_match_index = -1\n",
        "  for person_index in range(9):\n",
        "    column_name = \"Answer.comparison\" + str(person_index + 1)\n",
        "    current_rating = mturk_df[column_name][row_index]\n",
        "    if current_rating == max_average:\n",
        "      highest_match_index = person_index + 1\n",
        "      break\n",
        "  # Add appropriate cells from input profile and corresponding match profile\n",
        "  # into row of new dataframe\n",
        "  row_values = []\n",
        "  attribute_list = ['age', 'sex', 'orientation', 'body_type', 'diet', 'drinks', 'drugs', 'education',\n",
        "                    'job', 'offspring', 'pets', 'religion', 'sign', 'smokes']\n",
        "  for attribute in attribute_list:\n",
        "    row_values.append(mturk_df[\"Input.\" + attribute][row_index])\n",
        "  for attribute in attribute_list:\n",
        "    row_values.append(mturk_df[\"Input.person\" + str(highest_match_index) + \"_\" + attribute][row_index])\n",
        "  goldstandard_data.append(row_values)\n",
        "\n",
        "goldstandard_df = pd.DataFrame(data = goldstandard_data, columns = [\n",
        "                    'Input.age', 'Input.sex', 'Input.orientation', 'Input.body_type', 'Input.diet', 'Input.drinks', 'Input.drugs', 'Input.education',\n",
        "                    'Input.job', 'Input.offspring', 'Input.pets', 'Input.religion', 'Input.sign', 'Input.smokes',\n",
        "                    'Match.age', 'Match.sex', 'Match.orientation', 'Match.body_type', 'Match.diet', 'Match.drinks', 'Match.drugs', 'Match.education',\n",
        "                    'Match.job', 'Match.offspring', 'Match.pets', 'Match.religion', 'Match.sign', 'Match.smokes'\n",
        "                    ])\n",
        "\n",
        "goldstandard_df.to_csv('/content/drive/MyDrive/goldstandard_data.csv', index=False)"
      ],
      "execution_count": null,
      "outputs": []
    },
    {
      "cell_type": "code",
      "metadata": {
        "id": "6bsS8g3Jh3qn"
      },
      "source": [
        "goldstandard_df.head()\n",
        "input_df = goldstandard_df[['Input.age', 'Input.sex', 'Input.orientation', 'Input.body_type', 'Input.diet', 'Input.drinks', 'Input.drugs', 'Input.education',\n",
        "                    'Input.job', 'Input.offspring', 'Input.pets', 'Input.religion', 'Input.sign', 'Input.smokes']]\n",
        "matches_df = goldstandard_df.drop(['Input.age', 'Input.sex', 'Input.orientation', 'Input.body_type', 'Input.diet', 'Input.drinks', 'Input.drugs', 'Input.education',\n",
        "                    'Input.job', 'Input.offspring', 'Input.pets', 'Input.religion', 'Input.sign', 'Input.smokes'], axis = 1)                  "
      ],
      "execution_count": null,
      "outputs": []
    },
    {
      "cell_type": "code",
      "metadata": {
        "id": "uNLFzbz4VOaO"
      },
      "source": [
        "input_df.columns = list(profiles_df.columns)\n",
        "matches_df.columns = list(profiles_df.columns)"
      ],
      "execution_count": null,
      "outputs": []
    },
    {
      "cell_type": "code",
      "metadata": {
        "id": "9XrayElXyTX0",
        "colab": {
          "base_uri": "https://localhost:8080/"
        },
        "outputId": "8a8da56a-33a4-4048-95e5-8c68eabd9c44"
      },
      "source": [
        "profiles_df['input_row'] = 0\n",
        "input_df['input_row'] = 1\n",
        "matches_df['input_row'] = 2\n",
        "profiles_df = profiles_df.append(input_df, ignore_index=True)\n",
        "profiles_df = profiles_df.append(matches_df, ignore_index=True)\n",
        "categorize_new(profiles_df)\n",
        "\n",
        "\n",
        "\n"
      ],
      "execution_count": null,
      "outputs": [
        {
          "output_type": "stream",
          "text": [
            "/usr/local/lib/python3.7/dist-packages/ipykernel_launcher.py:2: SettingWithCopyWarning: \n",
            "A value is trying to be set on a copy of a slice from a DataFrame.\n",
            "Try using .loc[row_indexer,col_indexer] = value instead\n",
            "\n",
            "See the caveats in the documentation: https://pandas.pydata.org/pandas-docs/stable/user_guide/indexing.html#returning-a-view-versus-a-copy\n",
            "  \n",
            "/usr/local/lib/python3.7/dist-packages/ipykernel_launcher.py:16: SettingWithCopyWarning: \n",
            "A value is trying to be set on a copy of a slice from a DataFrame\n",
            "\n",
            "See the caveats in the documentation: https://pandas.pydata.org/pandas-docs/stable/user_guide/indexing.html#returning-a-view-versus-a-copy\n",
            "  app.launch_new_instance()\n",
            "/usr/local/lib/python3.7/dist-packages/ipykernel_launcher.py:30: SettingWithCopyWarning: \n",
            "A value is trying to be set on a copy of a slice from a DataFrame\n",
            "\n",
            "See the caveats in the documentation: https://pandas.pydata.org/pandas-docs/stable/user_guide/indexing.html#returning-a-view-versus-a-copy\n",
            "/usr/local/lib/python3.7/dist-packages/ipykernel_launcher.py:54: SettingWithCopyWarning: \n",
            "A value is trying to be set on a copy of a slice from a DataFrame\n",
            "\n",
            "See the caveats in the documentation: https://pandas.pydata.org/pandas-docs/stable/user_guide/indexing.html#returning-a-view-versus-a-copy\n",
            "/usr/local/lib/python3.7/dist-packages/ipykernel_launcher.py:84: SettingWithCopyWarning: \n",
            "A value is trying to be set on a copy of a slice from a DataFrame\n",
            "\n",
            "See the caveats in the documentation: https://pandas.pydata.org/pandas-docs/stable/user_guide/indexing.html#returning-a-view-versus-a-copy\n",
            "/usr/local/lib/python3.7/dist-packages/ipykernel_launcher.py:112: SettingWithCopyWarning: \n",
            "A value is trying to be set on a copy of a slice from a DataFrame\n",
            "\n",
            "See the caveats in the documentation: https://pandas.pydata.org/pandas-docs/stable/user_guide/indexing.html#returning-a-view-versus-a-copy\n"
          ],
          "name": "stderr"
        }
      ]
    },
    {
      "cell_type": "code",
      "metadata": {
        "id": "duYvpn-xgGmW"
      },
      "source": [
        "with_sex_df = profiles_df.copy()"
      ],
      "execution_count": null,
      "outputs": []
    },
    {
      "cell_type": "code",
      "metadata": {
        "id": "n8hMFwkxfKqJ"
      },
      "source": [
        "profiles_df.drop('sex', axis =1, inplace = True)"
      ],
      "execution_count": null,
      "outputs": []
    },
    {
      "cell_type": "code",
      "metadata": {
        "id": "ah0QOX5HW_za"
      },
      "source": [
        "data_df = profiles_df.copy()"
      ],
      "execution_count": null,
      "outputs": []
    },
    {
      "cell_type": "code",
      "metadata": {
        "id": "5gZBHC7BUVc6"
      },
      "source": [
        "# encode trainning and inputs and labels \n",
        "from sklearn import preprocessing\n",
        "cats = list(profiles_df.columns)\n",
        "\n",
        "for col in cats:\n",
        "  data_df[col] = data_df[col].astype('category')\n",
        "  colum = pd.get_dummies(data_df[col], prefix=col)\n",
        "  data_df = data_df.drop(columns = [col])\n",
        "  data_df = pd.concat([data_df, colum], axis=1)\n",
        "\n"
      ],
      "execution_count": null,
      "outputs": []
    },
    {
      "cell_type": "code",
      "metadata": {
        "id": "I-t7bKbnd8K7"
      },
      "source": [
        "input_encoding = data_df.loc[data_df['input_row_1'] == 1]\n",
        "labels_encoding = data_df.loc[data_df['input_row_2'] == 1]\n",
        "train_encoding = data_df.loc[data_df['input_row_0'] == 1]"
      ],
      "execution_count": null,
      "outputs": []
    },
    {
      "cell_type": "code",
      "metadata": {
        "colab": {
          "base_uri": "https://localhost:8080/"
        },
        "id": "OtH6Xx1weG8a",
        "outputId": "1210c51a-d3f9-4dc2-bb72-62590788f235"
      },
      "source": [
        "input_encoding.drop(['input_row_0','input_row_1','input_row_2'] ,\n",
        "  axis='columns', inplace=True)\n",
        "labels_encoding.drop(['input_row_0','input_row_1','input_row_2'] ,\n",
        "  axis='columns', inplace=True)\n",
        "train_encoding.drop(['input_row_0','input_row_1','input_row_2'] ,\n",
        "  axis='columns', inplace=True)"
      ],
      "execution_count": null,
      "outputs": [
        {
          "output_type": "stream",
          "text": [
            "/usr/local/lib/python3.7/dist-packages/pandas/core/frame.py:4174: SettingWithCopyWarning: \n",
            "A value is trying to be set on a copy of a slice from a DataFrame\n",
            "\n",
            "See the caveats in the documentation: https://pandas.pydata.org/pandas-docs/stable/user_guide/indexing.html#returning-a-view-versus-a-copy\n",
            "  errors=errors,\n"
          ],
          "name": "stderr"
        }
      ]
    },
    {
      "cell_type": "markdown",
      "metadata": {
        "id": "hCmjGAoxfxiv"
      },
      "source": [
        "#Machine Learning Model and Analysis#"
      ]
    },
    {
      "cell_type": "code",
      "metadata": {
        "id": "8qjOFGt3hrUK",
        "colab": {
          "base_uri": "https://localhost:8080/"
        },
        "outputId": "d1911b68-f687-4f59-9dab-af601d2a9b54"
      },
      "source": [
        "nneigh = NearestNeighbors()\n",
        "nneigh.fit(train_encoding.to_numpy())\n"
      ],
      "execution_count": null,
      "outputs": [
        {
          "output_type": "execute_result",
          "data": {
            "text/plain": [
              "NearestNeighbors(algorithm='auto', leaf_size=30, metric='minkowski',\n",
              "                 metric_params=None, n_jobs=None, n_neighbors=5, p=2,\n",
              "                 radius=1.0)"
            ]
          },
          "metadata": {
            "tags": []
          },
          "execution_count": 16
        }
      ]
    },
    {
      "cell_type": "code",
      "metadata": {
        "id": "oXOzYWxtkvIp"
      },
      "source": [
        "def candidates(df, input):\n",
        "  df = df.iloc[1: , :]\n",
        "  if input[2] == 'straight':\n",
        "    output = df.loc[df['orientation'].isin(['straight', 'bisexual'])]\n",
        "    output = output.loc[output['sex'] != input[1]]\n",
        "  elif input[2] == 'gay': \n",
        "    output = df.loc[df['orientation'].isin(['bisexual','gay'])]\n",
        "    output = output.loc[output['sex'] == input[1]]\n",
        "  else :\n",
        "    output = df.loc[sex['orientation'].isin(['bisexual','gay','straight'])]\n",
        "  match = output.head(1)  \n",
        "  return match    "
      ],
      "execution_count": null,
      "outputs": []
    },
    {
      "cell_type": "code",
      "metadata": {
        "id": "v0solETKk6Of"
      },
      "source": [
        "\n",
        "def accuracy(input,match):\n",
        "  i = set(input)\n",
        "  m = set(match)\n",
        "  z = len(i.difference(m)) - 2\n",
        "  if z < 0 :\n",
        "    z = 0\n",
        "  return ((len(i) - z)/len(i)) *100\n"
      ],
      "execution_count": null,
      "outputs": []
    },
    {
      "cell_type": "code",
      "metadata": {
        "id": "kNhLBEaG825s"
      },
      "source": [
        " def findMatch(in_prf, in_df): \n",
        "  profiles_df = org_df.drop(['essay0', 'essay1','essay2', 'essay3','essay4', 'essay5','essay6', 'essay7','essay8', 'essay9', 'income', 'last_online', 'status', 'ethnicity', 'height', 'location', 'speaks'], axis=1)\n",
        "  x_df = with_sex_df.copy()\n",
        "  x_df['input_row'] = 0\n",
        "  matches_df['input_row'] = 0\n",
        "  x_df = x_df.append(in_df, ignore_index=True)\n",
        "  x_df = x_df.append(matches_df, ignore_index=True)\n",
        " \n",
        " \n",
        "  x_df.drop('sex', axis = 1, inplace = True)\n",
        "  categorize_new(x_df)\n",
        "\n",
        "\n",
        "  cats = list(x_df.columns)\n",
        "  for col in cats:\n",
        "    x_df[col] = x_df[col].astype('category')\n",
        "    colum = pd.get_dummies(x_df[col], prefix=col)\n",
        "    x_df = x_df.drop(columns = [col])\n",
        "    x_df = pd.concat([x_df, colum], axis=1)\n",
        "  \n",
        "  \n",
        "  input_encoding = x_df.loc[x_df['input_row_1'] == 1]\n",
        "  input_encoding.drop(['input_row_0','input_row_1'] ,\n",
        "  axis='columns', inplace=True)\n",
        "  input_encoding = input_encoding.iloc[: , :-1]\n",
        "\n",
        "  y_pred = nneigh.kneighbors(input_encoding.to_numpy(), 50, return_distance=False)\n",
        "  input_profile = in_prf  \n",
        "  pred_match = profiles_df.iloc[y_pred[0]]\n",
        "  sex = with_sex_df.iloc[y_pred[0]]    \n",
        "  m = candidates(sex,input_profile).values.tolist()  \n",
        "  match = m[0]\n",
        "  res = round(accuracy(input_profile,match),2)\n",
        "  return match, res\n",
        "\n"
      ],
      "execution_count": null,
      "outputs": []
    },
    {
      "cell_type": "markdown",
      "metadata": {
        "id": "K6b7iroCtIst"
      },
      "source": [
        "#Find your Match!#"
      ]
    },
    {
      "cell_type": "code",
      "metadata": {
        "id": "vKsD7cgLr3N0",
        "colab": {
          "base_uri": "https://localhost:8080/",
          "height": 760
        },
        "outputId": "85cbf668-e13c-47e6-dc20-e711c646a1a4"
      },
      "source": [
        "input_prf = []\n",
        "\n",
        "age = input(\"Your age: \")\n",
        "input_prf.append(age)\n",
        "sex = input(\"Your sex: \")\n",
        "input_prf.append(sex)\n",
        "orientation = input(\"Your orientation: \")\n",
        "input_prf.append(orientation)\n",
        "body_type = input(\"Your body type: \")\n",
        "input_prf.append(body_type)\n",
        "diet = input(\"Your diet: \")\n",
        "input_prf.append(diet)\n",
        "drinks = input(\"Your drinks?: \")\n",
        "input_prf.append(drinks)\n",
        "drugs = input(\"do you do drugs?: \")\n",
        "input_prf.append(drugs)\n",
        "education\t= input(\"Whats your education: \") \n",
        "input_prf.append(education)\n",
        "job\t = input(\"Whats your job: \")\n",
        "input_prf.append(job)\n",
        "offspring\t= input(\"Do you want kids: \")\n",
        "input_prf.append(offspring)\n",
        "pets\t= input(\"Do you have pets: \")\n",
        "input_prf.append(pets)\n",
        "religion\t= input(\"What's your religion: \")\n",
        "input_prf.append(religion)\n",
        "sign\t= input(\"Whats'sign : \")\n",
        "input_prf.append(sign)\n",
        "smokes\t= input(\"Do you smoke: \")\n",
        "input_prf.append(smokes)\n",
        "input_prf.append(9)\n",
        "\n",
        "# input_prf = ['57', 'm', 'straight', 'fit', 'vegan', 'socially', 'never', 'college/university', 'student', 'wants kids', 'likes cats','agnosticism', 'cancer','no', 9 ]\n",
        "in_df = pd.DataFrame([input_prf], columns=list(with_sex_df.columns))    \n",
        "in_df['input_row'] = 1\n",
        "\n",
        "match, score = findMatch(input_prf, in_df)\n",
        "match_df = pd.DataFrame([match], columns=list(with_sex_df.columns))\n",
        "match_df = match_df.iloc[: , :-1]\n",
        "match_df['score'] = score\n",
        "match_df.head()\n"
      ],
      "execution_count": null,
      "outputs": [
        {
          "output_type": "stream",
          "text": [
            "Your age: 22\n",
            "Your sex: f\n",
            "Your orientation: straight\n",
            "Your body type: fit\n",
            "Your diet: vegan\n",
            "Your drinks?: socially\n",
            "do you do drugs?: never\n",
            "Whats your education: college/university\n",
            "Whats your job: student\n",
            "Do you want kids: wants kids\n",
            "Do you have pets: likes cats\n",
            "What's your religion: agnosticism\n",
            "Whats'sign : cancer\n",
            "Do you smoke: no\n"
          ],
          "name": "stdout"
        },
        {
          "output_type": "stream",
          "text": [
            "/usr/local/lib/python3.7/dist-packages/ipykernel_launcher.py:16: SettingWithCopyWarning: \n",
            "A value is trying to be set on a copy of a slice from a DataFrame\n",
            "\n",
            "See the caveats in the documentation: https://pandas.pydata.org/pandas-docs/stable/user_guide/indexing.html#returning-a-view-versus-a-copy\n",
            "  app.launch_new_instance()\n",
            "/usr/local/lib/python3.7/dist-packages/ipykernel_launcher.py:30: SettingWithCopyWarning: \n",
            "A value is trying to be set on a copy of a slice from a DataFrame\n",
            "\n",
            "See the caveats in the documentation: https://pandas.pydata.org/pandas-docs/stable/user_guide/indexing.html#returning-a-view-versus-a-copy\n",
            "/usr/local/lib/python3.7/dist-packages/ipykernel_launcher.py:54: SettingWithCopyWarning: \n",
            "A value is trying to be set on a copy of a slice from a DataFrame\n",
            "\n",
            "See the caveats in the documentation: https://pandas.pydata.org/pandas-docs/stable/user_guide/indexing.html#returning-a-view-versus-a-copy\n",
            "/usr/local/lib/python3.7/dist-packages/ipykernel_launcher.py:84: SettingWithCopyWarning: \n",
            "A value is trying to be set on a copy of a slice from a DataFrame\n",
            "\n",
            "See the caveats in the documentation: https://pandas.pydata.org/pandas-docs/stable/user_guide/indexing.html#returning-a-view-versus-a-copy\n",
            "/usr/local/lib/python3.7/dist-packages/ipykernel_launcher.py:112: SettingWithCopyWarning: \n",
            "A value is trying to be set on a copy of a slice from a DataFrame\n",
            "\n",
            "See the caveats in the documentation: https://pandas.pydata.org/pandas-docs/stable/user_guide/indexing.html#returning-a-view-versus-a-copy\n",
            "/usr/local/lib/python3.7/dist-packages/pandas/core/frame.py:4174: SettingWithCopyWarning: \n",
            "A value is trying to be set on a copy of a slice from a DataFrame\n",
            "\n",
            "See the caveats in the documentation: https://pandas.pydata.org/pandas-docs/stable/user_guide/indexing.html#returning-a-view-versus-a-copy\n",
            "  errors=errors,\n"
          ],
          "name": "stderr"
        },
        {
          "output_type": "execute_result",
          "data": {
            "text/html": [
              "<div>\n",
              "<style scoped>\n",
              "    .dataframe tbody tr th:only-of-type {\n",
              "        vertical-align: middle;\n",
              "    }\n",
              "\n",
              "    .dataframe tbody tr th {\n",
              "        vertical-align: top;\n",
              "    }\n",
              "\n",
              "    .dataframe thead th {\n",
              "        text-align: right;\n",
              "    }\n",
              "</style>\n",
              "<table border=\"1\" class=\"dataframe\">\n",
              "  <thead>\n",
              "    <tr style=\"text-align: right;\">\n",
              "      <th></th>\n",
              "      <th>age</th>\n",
              "      <th>sex</th>\n",
              "      <th>orientation</th>\n",
              "      <th>body_type</th>\n",
              "      <th>diet</th>\n",
              "      <th>drinks</th>\n",
              "      <th>drugs</th>\n",
              "      <th>education</th>\n",
              "      <th>job</th>\n",
              "      <th>offspring</th>\n",
              "      <th>pets</th>\n",
              "      <th>religion</th>\n",
              "      <th>sign</th>\n",
              "      <th>smokes</th>\n",
              "      <th>score</th>\n",
              "    </tr>\n",
              "  </thead>\n",
              "  <tbody>\n",
              "    <tr>\n",
              "      <th>0</th>\n",
              "      <td>22</td>\n",
              "      <td>m</td>\n",
              "      <td>straight</td>\n",
              "      <td>average</td>\n",
              "      <td>vegetarian</td>\n",
              "      <td>socially</td>\n",
              "      <td>often</td>\n",
              "      <td>graduated college</td>\n",
              "      <td>NaN</td>\n",
              "      <td>NaN</td>\n",
              "      <td>likes dogs and likes cats</td>\n",
              "      <td>other</td>\n",
              "      <td>capricorn</td>\n",
              "      <td>sometimes</td>\n",
              "      <td>26.67</td>\n",
              "    </tr>\n",
              "  </tbody>\n",
              "</table>\n",
              "</div>"
            ],
            "text/plain": [
              "   age sex orientation body_type  ... religion       sign     smokes  score\n",
              "0   22   m    straight   average  ...    other  capricorn  sometimes  26.67\n",
              "\n",
              "[1 rows x 15 columns]"
            ]
          },
          "metadata": {
            "tags": []
          },
          "execution_count": 20
        }
      ]
    }
  ]
}