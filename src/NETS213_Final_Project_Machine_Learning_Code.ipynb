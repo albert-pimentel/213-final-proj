{
  "nbformat": 4,
  "nbformat_minor": 0,
  "metadata": {
    "colab": {
      "name": "NETS213 Final Project Machine Learning Code",
      "provenance": [],
      "collapsed_sections": [
        "STk-TPY_fs8w"
      ]
    },
    "kernelspec": {
      "name": "python3",
      "display_name": "Python 3"
    },
    "language_info": {
      "name": "python"
    }
  },
  "cells": [
    {
      "cell_type": "markdown",
      "metadata": {
        "id": "GFfLf5CfxFrn"
      },
      "source": [
        "#Import Libraries#"
      ]
    },
    {
      "cell_type": "code",
      "metadata": {
        "id": "_m-5Cwxmt9Xq"
      },
      "source": [
        "from sklearn.neighbors import NearestNeighbors\n",
        "import pandas as pd\n",
        "import re\n",
        "from sklearn.preprocessing import OneHotEncoder"
      ],
      "execution_count": 343,
      "outputs": []
    },
    {
      "cell_type": "code",
      "metadata": {
        "colab": {
          "base_uri": "https://localhost:8080/"
        },
        "id": "RztTXH0UgKEJ",
        "outputId": "20f5d290-0603-4554-ef14-f6d49a2af0ed"
      },
      "source": [
        "from google.colab import drive\n",
        "drive.mount('/content/drive')"
      ],
      "execution_count": 344,
      "outputs": [
        {
          "output_type": "stream",
          "text": [
            "Drive already mounted at /content/drive; to attempt to forcibly remount, call drive.mount(\"/content/drive\", force_remount=True).\n"
          ],
          "name": "stdout"
        }
      ]
    },
    {
      "cell_type": "markdown",
      "metadata": {
        "id": "STk-TPY_fs8w"
      },
      "source": [
        "#Data Preprocessing#"
      ]
    },
    {
      "cell_type": "code",
      "metadata": {
        "id": "1xgwHQ1Nc3Bo"
      },
      "source": [
        "# drop all rows that were used in mturk\n",
        "org_df = pd.read_csv('/content/drive/MyDrive/okcupid_profiles.csv') \n",
        "mturk_df = pd.read_csv('/content/drive/MyDrive/AGG_Output_Averages.csv') "
      ],
      "execution_count": 345,
      "outputs": []
    },
    {
      "cell_type": "code",
      "metadata": {
        "id": "V0S2TtPSfVAN",
        "colab": {
          "base_uri": "https://localhost:8080/",
          "height": 0
        },
        "outputId": "147b5460-fea7-4b66-bf1a-e2ff7179f5f1"
      },
      "source": [
        "org_df.head(0)"
      ],
      "execution_count": 346,
      "outputs": [
        {
          "output_type": "execute_result",
          "data": {
            "text/html": [
              "<div>\n",
              "<style scoped>\n",
              "    .dataframe tbody tr th:only-of-type {\n",
              "        vertical-align: middle;\n",
              "    }\n",
              "\n",
              "    .dataframe tbody tr th {\n",
              "        vertical-align: top;\n",
              "    }\n",
              "\n",
              "    .dataframe thead th {\n",
              "        text-align: right;\n",
              "    }\n",
              "</style>\n",
              "<table border=\"1\" class=\"dataframe\">\n",
              "  <thead>\n",
              "    <tr style=\"text-align: right;\">\n",
              "      <th></th>\n",
              "      <th>age</th>\n",
              "      <th>status</th>\n",
              "      <th>sex</th>\n",
              "      <th>orientation</th>\n",
              "      <th>body_type</th>\n",
              "      <th>diet</th>\n",
              "      <th>drinks</th>\n",
              "      <th>drugs</th>\n",
              "      <th>education</th>\n",
              "      <th>ethnicity</th>\n",
              "      <th>height</th>\n",
              "      <th>income</th>\n",
              "      <th>job</th>\n",
              "      <th>last_online</th>\n",
              "      <th>location</th>\n",
              "      <th>offspring</th>\n",
              "      <th>pets</th>\n",
              "      <th>religion</th>\n",
              "      <th>sign</th>\n",
              "      <th>smokes</th>\n",
              "      <th>speaks</th>\n",
              "      <th>essay0</th>\n",
              "      <th>essay1</th>\n",
              "      <th>essay2</th>\n",
              "      <th>essay3</th>\n",
              "      <th>essay4</th>\n",
              "      <th>essay5</th>\n",
              "      <th>essay6</th>\n",
              "      <th>essay7</th>\n",
              "      <th>essay8</th>\n",
              "      <th>essay9</th>\n",
              "    </tr>\n",
              "  </thead>\n",
              "  <tbody>\n",
              "  </tbody>\n",
              "</table>\n",
              "</div>"
            ],
            "text/plain": [
              "Empty DataFrame\n",
              "Columns: [age, status, sex, orientation, body_type, diet, drinks, drugs, education, ethnicity, height, income, job, last_online, location, offspring, pets, religion, sign, smokes, speaks, essay0, essay1, essay2, essay3, essay4, essay5, essay6, essay7, essay8, essay9]\n",
              "Index: []"
            ]
          },
          "metadata": {
            "tags": []
          },
          "execution_count": 346
        }
      ]
    },
    {
      "cell_type": "code",
      "metadata": {
        "id": "cx1XCfTqgrHd"
      },
      "source": [
        "profiles_df = org_df.drop(['essay0', 'essay1','essay2', 'essay3','essay4', 'essay5','essay6', 'essay7','essay8', 'essay9', 'income', 'last_online', 'status', 'ethnicity', 'height', 'location', 'speaks'], axis=1)\n"
      ],
      "execution_count": 347,
      "outputs": []
    },
    {
      "cell_type": "code",
      "metadata": {
        "id": "SdIzjj8nqXw9",
        "colab": {
          "base_uri": "https://localhost:8080/"
        },
        "outputId": "e9046dd0-4b13-4a3a-efca-1a5d5d879796"
      },
      "source": [
        "for col in profiles_df:\n",
        "    print(profiles_df[col].unique())"
      ],
      "execution_count": 348,
      "outputs": [
        {
          "output_type": "stream",
          "text": [
            "[ 22  35  38  23  29  32  31  24  37  28  30  39  33  26  27  20  25  40\n",
            "  36  21  34  43  46  41  42  45  18  55  50  59  44  48  54  51  62  52\n",
            "  19  58  66  53  63  47  49  61  60  57  56  65  64  68 110  69  67 109]\n",
            "['m' 'f']\n",
            "['straight' 'bisexual' 'gay']\n",
            "['a little extra' 'average' 'thin' 'athletic' 'fit' nan 'skinny' 'curvy'\n",
            " 'full figured' 'jacked' 'rather not say' 'used up' 'overweight']\n",
            "['strictly anything' 'mostly other' 'anything' 'vegetarian' nan\n",
            " 'mostly anything' 'mostly vegetarian' 'strictly vegan'\n",
            " 'strictly vegetarian' 'mostly vegan' 'strictly other' 'mostly halal'\n",
            " 'other' 'vegan' 'mostly kosher' 'strictly halal' 'halal'\n",
            " 'strictly kosher' 'kosher']\n",
            "['socially' 'often' 'not at all' 'rarely' nan 'very often' 'desperately']\n",
            "['never' 'sometimes' nan 'often']\n",
            "['working on college/university' 'working on space camp'\n",
            " 'graduated from masters program' 'graduated from college/university'\n",
            " 'working on two-year college' nan 'graduated from high school'\n",
            " 'working on masters program' 'graduated from space camp'\n",
            " 'college/university' 'dropped out of space camp'\n",
            " 'graduated from ph.d program' 'graduated from law school'\n",
            " 'working on ph.d program' 'two-year college'\n",
            " 'graduated from two-year college' 'working on med school'\n",
            " 'dropped out of college/university' 'space camp'\n",
            " 'graduated from med school' 'dropped out of high school'\n",
            " 'working on high school' 'masters program' 'dropped out of ph.d program'\n",
            " 'dropped out of two-year college' 'dropped out of med school'\n",
            " 'high school' 'working on law school' 'law school'\n",
            " 'dropped out of masters program' 'ph.d program'\n",
            " 'dropped out of law school' 'med school']\n",
            "['transportation' 'hospitality / travel' nan 'student'\n",
            " 'artistic / musical / writer' 'computer / hardware / software'\n",
            " 'banking / financial / real estate' 'entertainment / media'\n",
            " 'sales / marketing / biz dev' 'other' 'medicine / health'\n",
            " 'science / tech / engineering' 'executive / management'\n",
            " 'education / academia' 'clerical / administrative'\n",
            " 'construction / craftsmanship' 'rather not say' 'political / government'\n",
            " 'law / legal services' 'unemployed' 'military' 'retired']\n",
            "[\"doesn't have kids, but might want them\" nan \"doesn't want kids\"\n",
            " \"doesn't have kids, but wants them\" \"doesn't have kids\" 'wants kids'\n",
            " 'has a kid' 'has kids' \"doesn't have kids, and doesn't want any\"\n",
            " \"has kids, but doesn't want more\" \"has a kid, but doesn't want more\"\n",
            " 'has a kid, and wants more' 'has kids, and might want more'\n",
            " 'might want kids' 'has a kid, and might want more'\n",
            " 'has kids, and wants more']\n",
            "['likes dogs and likes cats' 'has cats' 'likes cats' nan\n",
            " 'has dogs and likes cats' 'likes dogs and has cats'\n",
            " 'likes dogs and dislikes cats' 'has dogs' 'has dogs and dislikes cats'\n",
            " 'likes dogs' 'has dogs and has cats' 'dislikes dogs and has cats'\n",
            " 'dislikes dogs and dislikes cats' 'dislikes cats'\n",
            " 'dislikes dogs and likes cats' 'dislikes dogs']\n",
            "['agnosticism and very serious about it'\n",
            " 'agnosticism but not too serious about it' nan 'atheism' 'christianity'\n",
            " 'christianity but not too serious about it'\n",
            " 'atheism and laughing about it' 'christianity and very serious about it'\n",
            " 'other' 'catholicism' 'catholicism but not too serious about it'\n",
            " 'catholicism and somewhat serious about it'\n",
            " 'agnosticism and somewhat serious about it'\n",
            " 'catholicism and laughing about it' 'agnosticism and laughing about it'\n",
            " 'agnosticism' 'atheism and somewhat serious about it'\n",
            " 'buddhism but not too serious about it'\n",
            " 'other but not too serious about it' 'buddhism'\n",
            " 'other and laughing about it' 'judaism but not too serious about it'\n",
            " 'buddhism and laughing about it' 'other and somewhat serious about it'\n",
            " 'other and very serious about it' 'hinduism but not too serious about it'\n",
            " 'atheism but not too serious about it' 'judaism'\n",
            " 'christianity and somewhat serious about it'\n",
            " 'hinduism and very serious about it' 'atheism and very serious about it'\n",
            " 'judaism and laughing about it' 'christianity and laughing about it'\n",
            " 'hinduism and laughing about it' 'buddhism and somewhat serious about it'\n",
            " 'islam and very serious about it' 'islam' 'hinduism'\n",
            " 'judaism and somewhat serious about it'\n",
            " 'catholicism and very serious about it'\n",
            " 'judaism and very serious about it'\n",
            " 'hinduism and somewhat serious about it'\n",
            " 'islam but not too serious about it' 'buddhism and very serious about it'\n",
            " 'islam and laughing about it' 'islam and somewhat serious about it']\n",
            "['gemini' 'cancer' 'pisces but it doesn&rsquo;t matter' 'pisces'\n",
            " 'aquarius' 'taurus' 'virgo' 'sagittarius'\n",
            " 'gemini but it doesn&rsquo;t matter' 'cancer but it doesn&rsquo;t matter'\n",
            " 'leo but it doesn&rsquo;t matter' nan\n",
            " 'aquarius but it doesn&rsquo;t matter'\n",
            " 'aries and it&rsquo;s fun to think about'\n",
            " 'libra but it doesn&rsquo;t matter'\n",
            " 'pisces and it&rsquo;s fun to think about' 'libra'\n",
            " 'taurus but it doesn&rsquo;t matter'\n",
            " 'sagittarius but it doesn&rsquo;t matter' 'scorpio and it matters a lot'\n",
            " 'gemini and it&rsquo;s fun to think about'\n",
            " 'leo and it&rsquo;s fun to think about'\n",
            " 'cancer and it&rsquo;s fun to think about'\n",
            " 'libra and it&rsquo;s fun to think about'\n",
            " 'aquarius and it&rsquo;s fun to think about'\n",
            " 'virgo but it doesn&rsquo;t matter'\n",
            " 'scorpio and it&rsquo;s fun to think about'\n",
            " 'capricorn but it doesn&rsquo;t matter' 'scorpio'\n",
            " 'capricorn and it&rsquo;s fun to think about' 'leo'\n",
            " 'aries but it doesn&rsquo;t matter' 'aries'\n",
            " 'scorpio but it doesn&rsquo;t matter'\n",
            " 'sagittarius and it&rsquo;s fun to think about'\n",
            " 'libra and it matters a lot' 'taurus and it&rsquo;s fun to think about'\n",
            " 'leo and it matters a lot' 'virgo and it&rsquo;s fun to think about'\n",
            " 'cancer and it matters a lot' 'capricorn' 'pisces and it matters a lot'\n",
            " 'aries and it matters a lot' 'capricorn and it matters a lot'\n",
            " 'aquarius and it matters a lot' 'sagittarius and it matters a lot'\n",
            " 'gemini and it matters a lot' 'taurus and it matters a lot'\n",
            " 'virgo and it matters a lot']\n",
            "['sometimes' 'no' nan 'when drinking' 'yes' 'trying to quit']\n"
          ],
          "name": "stdout"
        }
      ]
    },
    {
      "cell_type": "code",
      "metadata": {
        "id": "nehq4tLtKM2B"
      },
      "source": [
        "def categorize_bodytype(data_frame):\n",
        "  for row_index in range(data_frame.shape[0]):\n",
        "      # Categorize body type\n",
        "      cell_value = data_frame['body_type'][row_index]\n",
        "      category = 'average'\n",
        "      if type(cell_value) != float and 'athletic' in cell_value:\n",
        "        category = 'fit'\n",
        "      if type(cell_value) != float and 'skinny' in cell_value:\n",
        "        category = 'thin'\n",
        "      if type(cell_value) != float and 'jacked' in cell_value:\n",
        "        category = 'fit'\n",
        "      if type(cell_value) != float and 'full figured' in cell_value:\n",
        "        category = 'curvy'\n",
        "      if type(cell_value) != float and 'a little extra' in cell_value:\n",
        "        category = 'curvy'\n",
        "      data_frame['body_type'][row_index]= category\n",
        "\n",
        "\n",
        "def categorize_diet(data_frame):\n",
        "  for row_index in range(data_frame.shape[0]):\n",
        "      # Categorize diet\n",
        "      cell_value = data_frame['diet'][row_index]\n",
        "      category = 'anything'\n",
        "      if type(cell_value) != float and 'vegetarian' in cell_value:\n",
        "        category = 'vegetarian'\n",
        "      if type(cell_value) != float and 'vegan' in cell_value:\n",
        "        category = 'vegan'\n",
        "      if type(cell_value) != float and 'halal' in cell_value:\n",
        "        category = 'halal'\n",
        "      data_frame['diet'][row_index]= category\n",
        "\n",
        "\n",
        "def categorize_religion(data_frame):\n",
        "  for row_index in range(data_frame.shape[0]):\n",
        "      # Categorize religion\n",
        "      cell_value = data_frame['religion'][row_index]\n",
        "      category = 'other'\n",
        "      if type(cell_value) != float and 'agnostic' in cell_value:\n",
        "        category = 'agnostic'\n",
        "      if type(cell_value) != float and 'atheist' in cell_value:\n",
        "        category = 'atheist'\n",
        "      if type(cell_value) != float and 'christian' in cell_value:\n",
        "        category = 'christian'\n",
        "      if type(cell_value) != float and 'catholicism' in cell_value:\n",
        "        category = 'catholicism'\n",
        "      if type(cell_value) != float and 'buddhism' in cell_value:\n",
        "        category = 'buddhism'\n",
        "      if type(cell_value) != float and 'hinduism' in cell_value:\n",
        "        category = 'hinduism'\n",
        "      if type(cell_value) != float and 'judaism' in cell_value:\n",
        "        category = 'judaism'\n",
        "      if type(cell_value) != float and 'islam' in cell_value:\n",
        "        category = 'islam'\n",
        "      data_frame['religion'][row_index]= category\n",
        "\n",
        "\n",
        "def categorize_sign(data_frame):\n",
        "  for row_index in range(data_frame.shape[0]):\n",
        "      # Categorize sign\n",
        "      cell_value = data_frame['sign'][row_index]\n",
        "      category = 'aquarius'\n",
        "      if type(cell_value) != float and 'pisces' in cell_value:\n",
        "        category = 'pisces'\n",
        "      if type(cell_value) != float and 'aries' in cell_value:\n",
        "        category = 'aries'\n",
        "      if type(cell_value) != float and 'taurus' in cell_value:\n",
        "        category = 'taurus'\n",
        "      if type(cell_value) != float and 'gemini' in cell_value:\n",
        "        category = 'gemini'\n",
        "      if type(cell_value) != float and 'cancer' in cell_value:\n",
        "        category = 'cancer'\n",
        "      if type(cell_value) != float and 'leo' in cell_value:\n",
        "        category = 'leo'\n",
        "      if type(cell_value) != float and 'virgo' in cell_value:\n",
        "        category = 'virgo'\n",
        "      if type(cell_value) != float and 'libra' in cell_value:\n",
        "        category = 'libra'\n",
        "      if type(cell_value) != float and 'scorpio' in cell_value:\n",
        "        category = 'scorpio'\n",
        "      if type(cell_value) != float and 'sagittarius' in cell_value:\n",
        "        category = 'sagittarius'\n",
        "      if type(cell_value) != float and 'capricorn' in cell_value:\n",
        "        category = 'capricorn'\n",
        "      data_frame['sign'][row_index]= category  \n",
        "\n",
        "\n",
        "def categorize_education(data_frame):\n",
        "  for row_index in range(data_frame.shape[0]):\n",
        "      # Categorize education\n",
        "      cell_value = data_frame['education'][row_index]\n",
        "      category = 'graduated college'\n",
        "      if type(cell_value) != float and 'dropped out of high school' in cell_value:\n",
        "        category = 'less than high school'\n",
        "      if type(cell_value) != float and 'working on high school' in cell_value:\n",
        "        category = 'less than high school'\n",
        "      if type(cell_value) != float and 'high school' in cell_value:\n",
        "        category = 'less than high school'\n",
        "      if type(cell_value) != float and 'graduated from high school' in cell_value:\n",
        "        category = 'graduated high school'\n",
        "      if type(cell_value) != float and 'dropped out of college/university' in cell_value:\n",
        "        category = 'graduated high school'\n",
        "      if type(cell_value) != float and 'dropped out of two-year college' in cell_value:\n",
        "        category = 'graduated high school'\n",
        "      if type(cell_value) != float and 'working on college/university' in cell_value:\n",
        "        category = 'in college'\n",
        "      if type(cell_value) != float and 'working on two-year college' in cell_value:\n",
        "        category = 'in college'\n",
        "      if type(cell_value) != float and 'college/university' in cell_value:\n",
        "        category = 'in college'\n",
        "      if type(cell_value) != float and 'two-year college' in cell_value:\n",
        "        category = 'in college'\n",
        "      data_frame['education'][row_index]= category\n",
        "\n",
        "\n",
        "# New categorize function\n",
        "def categorize_new(data_frame):\n",
        "  categorize_bodytype(data_frame)\n",
        "  categorize_diet(data_frame)\n",
        "  categorize_religion(data_frame)\n",
        "  categorize_sign(data_frame)\n",
        "  categorize_education(data_frame)\n"
      ],
      "execution_count": 349,
      "outputs": []
    },
    {
      "cell_type": "code",
      "metadata": {
        "id": "Oyg2zmzZ9qDo"
      },
      "source": [
        "# Use mturk_df (AGG_Output_Averages.csv) to populate goldstandard_df\n",
        "goldstandard_data = []\n",
        "for row_index in range(mturk_df.shape[0]):\n",
        "  max_average = mturk_df['Max_average'][row_index]\n",
        "  # Find which rated person has the highest average rating for this profile, arbitarily choosing\n",
        "  # a profile in case of repeats (since profiles were already randomly selected)\n",
        "  highest_match_index = -1\n",
        "  for person_index in range(9):\n",
        "    column_name = \"Answer.comparison\" + str(person_index + 1)\n",
        "    current_rating = mturk_df[column_name][row_index]\n",
        "    if current_rating == max_average:\n",
        "      highest_match_index = person_index + 1\n",
        "      break\n",
        "  # Add appropriate cells from input profile and corresponding match profile\n",
        "  # into row of new dataframe\n",
        "  row_values = []\n",
        "  attribute_list = ['age', 'sex', 'orientation', 'body_type', 'diet', 'drinks', 'drugs', 'education',\n",
        "                    'job', 'offspring', 'pets', 'religion', 'sign', 'smokes']\n",
        "  for attribute in attribute_list:\n",
        "    row_values.append(mturk_df[\"Input.\" + attribute][row_index])\n",
        "  for attribute in attribute_list:\n",
        "    row_values.append(mturk_df[\"Input.person\" + str(highest_match_index) + \"_\" + attribute][row_index])\n",
        "  goldstandard_data.append(row_values)\n",
        "\n",
        "goldstandard_df = pd.DataFrame(data = goldstandard_data, columns = [\n",
        "                    'Input.age', 'Input.sex', 'Input.orientation', 'Input.body_type', 'Input.diet', 'Input.drinks', 'Input.drugs', 'Input.education',\n",
        "                    'Input.job', 'Input.offspring', 'Input.pets', 'Input.religion', 'Input.sign', 'Input.smokes',\n",
        "                    'Match.age', 'Match.sex', 'Match.orientation', 'Match.body_type', 'Match.diet', 'Match.drinks', 'Match.drugs', 'Match.education',\n",
        "                    'Match.job', 'Match.offspring', 'Match.pets', 'Match.religion', 'Match.sign', 'Match.smokes'\n",
        "                    ])\n",
        "\n",
        "goldstandard_df.to_csv('/content/drive/MyDrive/goldstandard_data.csv', index=False)"
      ],
      "execution_count": 350,
      "outputs": []
    },
    {
      "cell_type": "code",
      "metadata": {
        "id": "6bsS8g3Jh3qn"
      },
      "source": [
        "goldstandard_df.head()\n",
        "input_df = goldstandard_df[['Input.age', 'Input.sex', 'Input.orientation', 'Input.body_type', 'Input.diet', 'Input.drinks', 'Input.drugs', 'Input.education',\n",
        "                    'Input.job', 'Input.offspring', 'Input.pets', 'Input.religion', 'Input.sign', 'Input.smokes']]\n",
        "matches_df = goldstandard_df.drop(['Input.age', 'Input.sex', 'Input.orientation', 'Input.body_type', 'Input.diet', 'Input.drinks', 'Input.drugs', 'Input.education',\n",
        "                    'Input.job', 'Input.offspring', 'Input.pets', 'Input.religion', 'Input.sign', 'Input.smokes'], axis = 1)                  "
      ],
      "execution_count": 351,
      "outputs": []
    },
    {
      "cell_type": "code",
      "metadata": {
        "id": "uNLFzbz4VOaO"
      },
      "source": [
        "input_df.columns = list(profiles_df.columns)\n",
        "matches_df.columns = list(profiles_df.columns)"
      ],
      "execution_count": 352,
      "outputs": []
    },
    {
      "cell_type": "code",
      "metadata": {
        "colab": {
          "base_uri": "https://localhost:8080/",
          "height": 0
        },
        "id": "8Tb86PoIVUfv",
        "outputId": "dd068103-66a8-44e3-a797-bf45639e77ba"
      },
      "source": [
        "matches_df.head()"
      ],
      "execution_count": 353,
      "outputs": [
        {
          "output_type": "execute_result",
          "data": {
            "text/html": [
              "<div>\n",
              "<style scoped>\n",
              "    .dataframe tbody tr th:only-of-type {\n",
              "        vertical-align: middle;\n",
              "    }\n",
              "\n",
              "    .dataframe tbody tr th {\n",
              "        vertical-align: top;\n",
              "    }\n",
              "\n",
              "    .dataframe thead th {\n",
              "        text-align: right;\n",
              "    }\n",
              "</style>\n",
              "<table border=\"1\" class=\"dataframe\">\n",
              "  <thead>\n",
              "    <tr style=\"text-align: right;\">\n",
              "      <th></th>\n",
              "      <th>age</th>\n",
              "      <th>sex</th>\n",
              "      <th>orientation</th>\n",
              "      <th>body_type</th>\n",
              "      <th>diet</th>\n",
              "      <th>drinks</th>\n",
              "      <th>drugs</th>\n",
              "      <th>education</th>\n",
              "      <th>job</th>\n",
              "      <th>offspring</th>\n",
              "      <th>pets</th>\n",
              "      <th>religion</th>\n",
              "      <th>sign</th>\n",
              "      <th>smokes</th>\n",
              "    </tr>\n",
              "  </thead>\n",
              "  <tbody>\n",
              "    <tr>\n",
              "      <th>0</th>\n",
              "      <td>36</td>\n",
              "      <td>f</td>\n",
              "      <td>bisexual</td>\n",
              "      <td>NaN</td>\n",
              "      <td>NaN</td>\n",
              "      <td>often</td>\n",
              "      <td>never</td>\n",
              "      <td>dropped out of ph.d program</td>\n",
              "      <td>education / academia</td>\n",
              "      <td>NaN</td>\n",
              "      <td>likes dogs and likes cats</td>\n",
              "      <td>atheism and somewhat serious about it</td>\n",
              "      <td>NaN</td>\n",
              "      <td>when drinking</td>\n",
              "    </tr>\n",
              "    <tr>\n",
              "      <th>1</th>\n",
              "      <td>37</td>\n",
              "      <td>m</td>\n",
              "      <td>gay</td>\n",
              "      <td>fit</td>\n",
              "      <td>strictly anything</td>\n",
              "      <td>often</td>\n",
              "      <td>sometimes</td>\n",
              "      <td>working on two-year college</td>\n",
              "      <td>student</td>\n",
              "      <td>NaN</td>\n",
              "      <td>likes dogs and has cats</td>\n",
              "      <td>atheism and very serious about it</td>\n",
              "      <td>taurus</td>\n",
              "      <td>no</td>\n",
              "    </tr>\n",
              "    <tr>\n",
              "      <th>2</th>\n",
              "      <td>22</td>\n",
              "      <td>m</td>\n",
              "      <td>straight</td>\n",
              "      <td>fit</td>\n",
              "      <td>mostly other</td>\n",
              "      <td>socially</td>\n",
              "      <td>never</td>\n",
              "      <td>working on college/university</td>\n",
              "      <td>artistic / musical / writer</td>\n",
              "      <td>NaN</td>\n",
              "      <td>likes cats</td>\n",
              "      <td>atheism but not too serious about it</td>\n",
              "      <td>aries but it doesn't matter</td>\n",
              "      <td>no</td>\n",
              "    </tr>\n",
              "    <tr>\n",
              "      <th>3</th>\n",
              "      <td>33</td>\n",
              "      <td>f</td>\n",
              "      <td>bisexual</td>\n",
              "      <td>fit</td>\n",
              "      <td>NaN</td>\n",
              "      <td>NaN</td>\n",
              "      <td>never</td>\n",
              "      <td>NaN</td>\n",
              "      <td>sales / marketing / biz dev</td>\n",
              "      <td>doesn't have kids</td>\n",
              "      <td>NaN</td>\n",
              "      <td>NaN</td>\n",
              "      <td>NaN</td>\n",
              "      <td>no</td>\n",
              "    </tr>\n",
              "    <tr>\n",
              "      <th>4</th>\n",
              "      <td>35</td>\n",
              "      <td>f</td>\n",
              "      <td>straight</td>\n",
              "      <td>fit</td>\n",
              "      <td>anything</td>\n",
              "      <td>often</td>\n",
              "      <td>never</td>\n",
              "      <td>graduated from college/university</td>\n",
              "      <td>NaN</td>\n",
              "      <td>doesn't have kids, and doesn't want any</td>\n",
              "      <td>NaN</td>\n",
              "      <td>agnosticism and laughing about it</td>\n",
              "      <td>libra and its fun to think about</td>\n",
              "      <td>no</td>\n",
              "    </tr>\n",
              "  </tbody>\n",
              "</table>\n",
              "</div>"
            ],
            "text/plain": [
              "   age sex  ...                              sign         smokes\n",
              "0   36   f  ...                               NaN  when drinking\n",
              "1   37   m  ...                            taurus             no\n",
              "2   22   m  ...       aries but it doesn't matter             no\n",
              "3   33   f  ...                               NaN             no\n",
              "4   35   f  ...  libra and its fun to think about             no\n",
              "\n",
              "[5 rows x 14 columns]"
            ]
          },
          "metadata": {
            "tags": []
          },
          "execution_count": 353
        }
      ]
    },
    {
      "cell_type": "code",
      "metadata": {
        "id": "9XrayElXyTX0",
        "colab": {
          "base_uri": "https://localhost:8080/"
        },
        "outputId": "c7b5da50-0298-4b2b-b5f3-01a0614e9477"
      },
      "source": [
        "profiles_df['input_row'] = 0\n",
        "input_df['input_row'] = 1\n",
        "matches_df['input_row'] = 2\n",
        "profiles_df = profiles_df.append(input_df, ignore_index=True)\n",
        "profiles_df = profiles_df.append(matches_df, ignore_index=True)\n",
        "categorize_new(profiles_df)\n",
        "\n",
        "\n",
        "\n"
      ],
      "execution_count": 354,
      "outputs": [
        {
          "output_type": "stream",
          "text": [
            "/usr/local/lib/python3.7/dist-packages/ipykernel_launcher.py:2: SettingWithCopyWarning: \n",
            "A value is trying to be set on a copy of a slice from a DataFrame.\n",
            "Try using .loc[row_indexer,col_indexer] = value instead\n",
            "\n",
            "See the caveats in the documentation: https://pandas.pydata.org/pandas-docs/stable/user_guide/indexing.html#returning-a-view-versus-a-copy\n",
            "  \n",
            "/usr/local/lib/python3.7/dist-packages/ipykernel_launcher.py:16: SettingWithCopyWarning: \n",
            "A value is trying to be set on a copy of a slice from a DataFrame\n",
            "\n",
            "See the caveats in the documentation: https://pandas.pydata.org/pandas-docs/stable/user_guide/indexing.html#returning-a-view-versus-a-copy\n",
            "  app.launch_new_instance()\n",
            "/usr/local/lib/python3.7/dist-packages/ipykernel_launcher.py:30: SettingWithCopyWarning: \n",
            "A value is trying to be set on a copy of a slice from a DataFrame\n",
            "\n",
            "See the caveats in the documentation: https://pandas.pydata.org/pandas-docs/stable/user_guide/indexing.html#returning-a-view-versus-a-copy\n",
            "/usr/local/lib/python3.7/dist-packages/ipykernel_launcher.py:54: SettingWithCopyWarning: \n",
            "A value is trying to be set on a copy of a slice from a DataFrame\n",
            "\n",
            "See the caveats in the documentation: https://pandas.pydata.org/pandas-docs/stable/user_guide/indexing.html#returning-a-view-versus-a-copy\n",
            "/usr/local/lib/python3.7/dist-packages/ipykernel_launcher.py:84: SettingWithCopyWarning: \n",
            "A value is trying to be set on a copy of a slice from a DataFrame\n",
            "\n",
            "See the caveats in the documentation: https://pandas.pydata.org/pandas-docs/stable/user_guide/indexing.html#returning-a-view-versus-a-copy\n",
            "/usr/local/lib/python3.7/dist-packages/ipykernel_launcher.py:112: SettingWithCopyWarning: \n",
            "A value is trying to be set on a copy of a slice from a DataFrame\n",
            "\n",
            "See the caveats in the documentation: https://pandas.pydata.org/pandas-docs/stable/user_guide/indexing.html#returning-a-view-versus-a-copy\n"
          ],
          "name": "stderr"
        }
      ]
    },
    {
      "cell_type": "code",
      "metadata": {
        "colab": {
          "base_uri": "https://localhost:8080/"
        },
        "id": "rJdpNMRGfuW2",
        "outputId": "8194a05d-e976-47f3-da76-6be19d4e5cc0"
      },
      "source": [
        "profiles_df.columns"
      ],
      "execution_count": 355,
      "outputs": [
        {
          "output_type": "execute_result",
          "data": {
            "text/plain": [
              "Index(['age', 'sex', 'orientation', 'body_type', 'diet', 'drinks', 'drugs',\n",
              "       'education', 'job', 'offspring', 'pets', 'religion', 'sign', 'smokes',\n",
              "       'input_row'],\n",
              "      dtype='object')"
            ]
          },
          "metadata": {
            "tags": []
          },
          "execution_count": 355
        }
      ]
    },
    {
      "cell_type": "code",
      "metadata": {
        "id": "duYvpn-xgGmW"
      },
      "source": [
        "with_sex_df = profiles_df.copy()"
      ],
      "execution_count": 356,
      "outputs": []
    },
    {
      "cell_type": "code",
      "metadata": {
        "id": "n8hMFwkxfKqJ"
      },
      "source": [
        "profiles_df.drop('sex', axis =1, inplace = True)"
      ],
      "execution_count": 357,
      "outputs": []
    },
    {
      "cell_type": "code",
      "metadata": {
        "id": "ah0QOX5HW_za"
      },
      "source": [
        "data_df = profiles_df.copy()"
      ],
      "execution_count": 358,
      "outputs": []
    },
    {
      "cell_type": "code",
      "metadata": {
        "id": "5gZBHC7BUVc6"
      },
      "source": [
        "# encode trainning and inputs and labels \n",
        "from sklearn import preprocessing\n",
        "cats = list(profiles_df.columns)\n",
        "\n",
        "for col in cats:\n",
        "  data_df[col] = data_df[col].astype('category')\n",
        "  colum = pd.get_dummies(data_df[col], prefix=col)\n",
        "  data_df = data_df.drop(columns = [col])\n",
        "  data_df = pd.concat([data_df, colum], axis=1)\n",
        "\n"
      ],
      "execution_count": 359,
      "outputs": []
    },
    {
      "cell_type": "code",
      "metadata": {
        "colab": {
          "base_uri": "https://localhost:8080/"
        },
        "id": "CLrDypAthaNM",
        "outputId": "01df46ce-c4b9-4941-e7dd-a5c5581cd01a"
      },
      "source": [
        "print(list(data_df.columns))"
      ],
      "execution_count": 360,
      "outputs": [
        {
          "output_type": "stream",
          "text": [
            "['age_18', 'age_19', 'age_20', 'age_21', 'age_22', 'age_23', 'age_24', 'age_25', 'age_26', 'age_27', 'age_28', 'age_29', 'age_30', 'age_31', 'age_32', 'age_33', 'age_34', 'age_35', 'age_36', 'age_37', 'age_38', 'age_39', 'age_40', 'age_41', 'age_42', 'age_43', 'age_44', 'age_45', 'age_46', 'age_47', 'age_48', 'age_49', 'age_50', 'age_51', 'age_52', 'age_53', 'age_54', 'age_55', 'age_56', 'age_57', 'age_58', 'age_59', 'age_60', 'age_61', 'age_62', 'age_63', 'age_64', 'age_65', 'age_66', 'age_67', 'age_68', 'age_69', 'age_109', 'age_110', 'orientation_bisexual', 'orientation_gay', 'orientation_straight', 'body_type_average', 'body_type_curvy', 'body_type_fit', 'body_type_thin', 'diet_anything', 'diet_halal', 'diet_vegan', 'diet_vegetarian', 'drinks_desperately', 'drinks_not at all', 'drinks_often', 'drinks_rarely', 'drinks_socially', 'drinks_very often', 'drugs_never', 'drugs_often', 'drugs_sometimes', 'education_graduated college', 'education_graduated high school', 'education_in college', 'education_less than high school', 'job_artistic / musical / writer', 'job_banking / financial / real estate', 'job_clerical / administrative', 'job_computer / hardware / software', 'job_construction / craftsmanship', 'job_education / academia', 'job_entertainment / media', 'job_executive / management', 'job_hospitality / travel', 'job_law / legal services', 'job_medicine / health', 'job_military', 'job_other', 'job_political / government', 'job_rather not say', 'job_retired', 'job_sales / marketing / biz dev', 'job_science / tech / engineering', 'job_student', 'job_transportation', 'job_unemployed', \"offspring_doesn't have kids\", \"offspring_doesn't have kids, and doesn't want any\", \"offspring_doesn't have kids, but might want them\", \"offspring_doesn't have kids, but wants them\", \"offspring_doesn't want kids\", 'offspring_has a kid', 'offspring_has a kid, and might want more', 'offspring_has a kid, and wants more', \"offspring_has a kid, but doesn't want more\", 'offspring_has kids', 'offspring_has kids, and might want more', 'offspring_has kids, and wants more', \"offspring_has kids, but doesn't want more\", 'offspring_might want kids', 'offspring_wants kids', 'pets_dislikes cats', 'pets_dislikes dogs', 'pets_dislikes dogs and dislikes cats', 'pets_dislikes dogs and has cats', 'pets_dislikes dogs and likes cats', 'pets_has cats', 'pets_has dogs', 'pets_has dogs and dislikes cats', 'pets_has dogs and has cats', 'pets_has dogs and likes cats', 'pets_likes cats', 'pets_likes dogs', 'pets_likes dogs and dislikes cats', 'pets_likes dogs and has cats', 'pets_likes dogs and likes cats', 'religion_agnostic', 'religion_buddhism', 'religion_catholicism', 'religion_christian', 'religion_hinduism', 'religion_islam', 'religion_judaism', 'religion_other', 'sign_aquarius', 'sign_aries', 'sign_cancer', 'sign_capricorn', 'sign_gemini', 'sign_leo', 'sign_libra', 'sign_pisces', 'sign_sagittarius', 'sign_scorpio', 'sign_taurus', 'sign_virgo', 'smokes_no', 'smokes_sometimes', 'smokes_trying to quit', 'smokes_when drinking', 'smokes_yes', 'input_row_0', 'input_row_1', 'input_row_2']\n"
          ],
          "name": "stdout"
        }
      ]
    },
    {
      "cell_type": "code",
      "metadata": {
        "id": "I-t7bKbnd8K7"
      },
      "source": [
        "input_encoding = data_df.loc[data_df['input_row_1'] == 1]\n",
        "labels_encoding = data_df.loc[data_df['input_row_2'] == 1]\n",
        "train_encoding = data_df.loc[data_df['input_row_0'] == 1]"
      ],
      "execution_count": 361,
      "outputs": []
    },
    {
      "cell_type": "code",
      "metadata": {
        "colab": {
          "base_uri": "https://localhost:8080/"
        },
        "id": "OtH6Xx1weG8a",
        "outputId": "bd3c4e1f-5d91-4694-c5b9-4754163fa80c"
      },
      "source": [
        "input_encoding.drop(['input_row_0','input_row_1','input_row_2'] ,\n",
        "  axis='columns', inplace=True)\n",
        "labels_encoding.drop(['input_row_0','input_row_1','input_row_2'] ,\n",
        "  axis='columns', inplace=True)\n",
        "train_encoding.drop(['input_row_0','input_row_1','input_row_2'] ,\n",
        "  axis='columns', inplace=True)"
      ],
      "execution_count": 362,
      "outputs": [
        {
          "output_type": "stream",
          "text": [
            "/usr/local/lib/python3.7/dist-packages/pandas/core/frame.py:4174: SettingWithCopyWarning: \n",
            "A value is trying to be set on a copy of a slice from a DataFrame\n",
            "\n",
            "See the caveats in the documentation: https://pandas.pydata.org/pandas-docs/stable/user_guide/indexing.html#returning-a-view-versus-a-copy\n",
            "  errors=errors,\n"
          ],
          "name": "stderr"
        }
      ]
    },
    {
      "cell_type": "code",
      "metadata": {
        "colab": {
          "base_uri": "https://localhost:8080/"
        },
        "id": "uy-W3EB1XuL9",
        "outputId": "21234972-a6cf-4e67-ec91-37b6bfdc6f13"
      },
      "source": [
        "print(list(train_encoding.columns))"
      ],
      "execution_count": 363,
      "outputs": [
        {
          "output_type": "stream",
          "text": [
            "['age_18', 'age_19', 'age_20', 'age_21', 'age_22', 'age_23', 'age_24', 'age_25', 'age_26', 'age_27', 'age_28', 'age_29', 'age_30', 'age_31', 'age_32', 'age_33', 'age_34', 'age_35', 'age_36', 'age_37', 'age_38', 'age_39', 'age_40', 'age_41', 'age_42', 'age_43', 'age_44', 'age_45', 'age_46', 'age_47', 'age_48', 'age_49', 'age_50', 'age_51', 'age_52', 'age_53', 'age_54', 'age_55', 'age_56', 'age_57', 'age_58', 'age_59', 'age_60', 'age_61', 'age_62', 'age_63', 'age_64', 'age_65', 'age_66', 'age_67', 'age_68', 'age_69', 'age_109', 'age_110', 'orientation_bisexual', 'orientation_gay', 'orientation_straight', 'body_type_average', 'body_type_curvy', 'body_type_fit', 'body_type_thin', 'diet_anything', 'diet_halal', 'diet_vegan', 'diet_vegetarian', 'drinks_desperately', 'drinks_not at all', 'drinks_often', 'drinks_rarely', 'drinks_socially', 'drinks_very often', 'drugs_never', 'drugs_often', 'drugs_sometimes', 'education_graduated college', 'education_graduated high school', 'education_in college', 'education_less than high school', 'job_artistic / musical / writer', 'job_banking / financial / real estate', 'job_clerical / administrative', 'job_computer / hardware / software', 'job_construction / craftsmanship', 'job_education / academia', 'job_entertainment / media', 'job_executive / management', 'job_hospitality / travel', 'job_law / legal services', 'job_medicine / health', 'job_military', 'job_other', 'job_political / government', 'job_rather not say', 'job_retired', 'job_sales / marketing / biz dev', 'job_science / tech / engineering', 'job_student', 'job_transportation', 'job_unemployed', \"offspring_doesn't have kids\", \"offspring_doesn't have kids, and doesn't want any\", \"offspring_doesn't have kids, but might want them\", \"offspring_doesn't have kids, but wants them\", \"offspring_doesn't want kids\", 'offspring_has a kid', 'offspring_has a kid, and might want more', 'offspring_has a kid, and wants more', \"offspring_has a kid, but doesn't want more\", 'offspring_has kids', 'offspring_has kids, and might want more', 'offspring_has kids, and wants more', \"offspring_has kids, but doesn't want more\", 'offspring_might want kids', 'offspring_wants kids', 'pets_dislikes cats', 'pets_dislikes dogs', 'pets_dislikes dogs and dislikes cats', 'pets_dislikes dogs and has cats', 'pets_dislikes dogs and likes cats', 'pets_has cats', 'pets_has dogs', 'pets_has dogs and dislikes cats', 'pets_has dogs and has cats', 'pets_has dogs and likes cats', 'pets_likes cats', 'pets_likes dogs', 'pets_likes dogs and dislikes cats', 'pets_likes dogs and has cats', 'pets_likes dogs and likes cats', 'religion_agnostic', 'religion_buddhism', 'religion_catholicism', 'religion_christian', 'religion_hinduism', 'religion_islam', 'religion_judaism', 'religion_other', 'sign_aquarius', 'sign_aries', 'sign_cancer', 'sign_capricorn', 'sign_gemini', 'sign_leo', 'sign_libra', 'sign_pisces', 'sign_sagittarius', 'sign_scorpio', 'sign_taurus', 'sign_virgo', 'smokes_no', 'smokes_sometimes', 'smokes_trying to quit', 'smokes_when drinking', 'smokes_yes']\n"
          ],
          "name": "stdout"
        }
      ]
    },
    {
      "cell_type": "markdown",
      "metadata": {
        "id": "hCmjGAoxfxiv"
      },
      "source": [
        "#Machine Learning Model and Analysis#"
      ]
    },
    {
      "cell_type": "code",
      "metadata": {
        "id": "8qjOFGt3hrUK",
        "colab": {
          "base_uri": "https://localhost:8080/"
        },
        "outputId": "e5024398-4c0c-4cb3-a60a-2ffcd5e2316e"
      },
      "source": [
        "nneigh = NearestNeighbors()\n",
        "nneigh.fit(train_encoding.to_numpy())\n"
      ],
      "execution_count": 364,
      "outputs": [
        {
          "output_type": "execute_result",
          "data": {
            "text/plain": [
              "NearestNeighbors(algorithm='auto', leaf_size=30, metric='minkowski',\n",
              "                 metric_params=None, n_jobs=None, n_neighbors=5, p=2,\n",
              "                 radius=1.0)"
            ]
          },
          "metadata": {
            "tags": []
          },
          "execution_count": 364
        }
      ]
    },
    {
      "cell_type": "code",
      "metadata": {
        "id": "oXOzYWxtkvIp"
      },
      "source": [
        "def candidates(df, input):\n",
        "  df = df.iloc[1: , :]\n",
        "  if input[2] == 'straight':\n",
        "    output = df.loc[df['orientation'].isin(['straight', 'bisexual'])]\n",
        "    output = output.loc[output['sex'] != input[1]]\n",
        "  elif input[2] == 'gay': \n",
        "    output = df.loc[df['orientation'].isin(['bisexual','gay'])]\n",
        "    output = output.loc[output['sex'] == input[1]]\n",
        "  else :\n",
        "    output = df.loc[sex['orientation'].isin(['bisexual','gay','straight'])]\n",
        "  match = output.head(1)  \n",
        "  return match    "
      ],
      "execution_count": 365,
      "outputs": []
    },
    {
      "cell_type": "code",
      "metadata": {
        "id": "v0solETKk6Of"
      },
      "source": [
        "\n",
        "def accuracy(input,match):\n",
        "  i = set(input)\n",
        "  m = set(match)\n",
        "  z = len(i.difference(m)) - 2\n",
        "  if z < 0 :\n",
        "    z = 0\n",
        "  return ((len(i) - z)/len(i)) *100\n"
      ],
      "execution_count": 389,
      "outputs": []
    },
    {
      "cell_type": "code",
      "metadata": {
        "colab": {
          "base_uri": "https://localhost:8080/",
          "height": 181
        },
        "id": "L0SAXbnm8HYZ",
        "outputId": "7cf3c606-a92e-4995-9a06-f7fe87589118"
      },
      "source": [
        "res = round(accuracy(input_profile,match), 2)\n",
        "print(res)\n"
      ],
      "execution_count": 384,
      "outputs": [
        {
          "output_type": "error",
          "ename": "TypeError",
          "evalue": "ignored",
          "traceback": [
            "\u001b[0;31m---------------------------------------------------------------------------\u001b[0m",
            "\u001b[0;31mTypeError\u001b[0m                                 Traceback (most recent call last)",
            "\u001b[0;32m<ipython-input-384-534fcdfee4b2>\u001b[0m in \u001b[0;36m<module>\u001b[0;34m()\u001b[0m\n\u001b[0;32m----> 1\u001b[0;31m \u001b[0mres\u001b[0m \u001b[0;34m=\u001b[0m \u001b[0mround\u001b[0m\u001b[0;34m(\u001b[0m\u001b[0maccuracy\u001b[0m\u001b[0;34m(\u001b[0m\u001b[0minput_profile\u001b[0m\u001b[0;34m,\u001b[0m\u001b[0mmatch\u001b[0m\u001b[0;34m)\u001b[0m\u001b[0;34m,\u001b[0m \u001b[0;36m2\u001b[0m\u001b[0;34m)\u001b[0m\u001b[0;34m\u001b[0m\u001b[0;34m\u001b[0m\u001b[0m\n\u001b[0m\u001b[1;32m      2\u001b[0m \u001b[0mprint\u001b[0m\u001b[0;34m(\u001b[0m\u001b[0mres\u001b[0m\u001b[0;34m)\u001b[0m\u001b[0;34m\u001b[0m\u001b[0;34m\u001b[0m\u001b[0m\n",
            "\u001b[0;31mTypeError\u001b[0m: 'list' object is not callable"
          ]
        }
      ]
    },
    {
      "cell_type": "code",
      "metadata": {
        "id": "bog-GlObiVCv"
      },
      "source": [
        "# use mturk rankings to see how well the model matches the profile\n",
        "input_profiles_list = input_df.values.tolist()\n",
        "mturk_matches = matches_df.values.tolist()\n",
        "\n",
        "inputs = []\n",
        "matches = []\n",
        "scores = []\n",
        "sc_mturk = []\n",
        "mturk_match = []\n",
        "acc = []\n",
        "\n",
        "for i, input in input_encoding.iterrows():\n",
        "  y_pred = nneigh.kneighbors([input], 50, return_distance=False)\n",
        "  input_profile = input_profiles_list.pop(0)\n",
        "  mturk_profile = mturk_matches.pop(0) \n",
        "  pred_match = profiles_df.iloc[y_pred[0]]\n",
        "  sex = with_sex_df.iloc[y_pred[0]]    \n",
        "  m = candidates(sex,input_profile).values.tolist()\n",
        "  if not m:\n",
        "    continue\n",
        "  match = m[0]\n",
        "  res = round(accuracy(input_profile,match),2)\n",
        "  res_acc = round(accuracy(match,mturk_profile), 2)\n",
        "  res_mturk = round(accuracy(input_profile,mturk_profile), 2)\n",
        "\n",
        "  inputs.append(input_profile)\n",
        "  matches.append(match)\n",
        "  mturk_match.append(mturk_profile)\n",
        "\n",
        "  scores.append(res)  \n",
        "  acc.append(res_acc)\n",
        "  sc_mturk.append(res_mturk)\n",
        "\n"
      ],
      "execution_count": 404,
      "outputs": []
    },
    {
      "cell_type": "code",
      "metadata": {
        "colab": {
          "base_uri": "https://localhost:8080/",
          "height": 204
        },
        "id": "ZNPVgkYY7J5X",
        "outputId": "a92defdc-9544-420e-8b9b-b39f1bc1ba21"
      },
      "source": [
        "sex.head()"
      ],
      "execution_count": 380,
      "outputs": [
        {
          "output_type": "execute_result",
          "data": {
            "text/html": [
              "<div>\n",
              "<style scoped>\n",
              "    .dataframe tbody tr th:only-of-type {\n",
              "        vertical-align: middle;\n",
              "    }\n",
              "\n",
              "    .dataframe tbody tr th {\n",
              "        vertical-align: top;\n",
              "    }\n",
              "\n",
              "    .dataframe thead th {\n",
              "        text-align: right;\n",
              "    }\n",
              "</style>\n",
              "<table border=\"1\" class=\"dataframe\">\n",
              "  <thead>\n",
              "    <tr style=\"text-align: right;\">\n",
              "      <th></th>\n",
              "      <th>age</th>\n",
              "      <th>sex</th>\n",
              "      <th>orientation</th>\n",
              "      <th>body_type</th>\n",
              "      <th>diet</th>\n",
              "      <th>drinks</th>\n",
              "      <th>drugs</th>\n",
              "      <th>education</th>\n",
              "      <th>job</th>\n",
              "      <th>offspring</th>\n",
              "      <th>pets</th>\n",
              "      <th>religion</th>\n",
              "      <th>sign</th>\n",
              "      <th>smokes</th>\n",
              "      <th>input_row</th>\n",
              "    </tr>\n",
              "  </thead>\n",
              "  <tbody>\n",
              "    <tr>\n",
              "      <th>16938</th>\n",
              "      <td>22</td>\n",
              "      <td>m</td>\n",
              "      <td>straight</td>\n",
              "      <td>fit</td>\n",
              "      <td>anything</td>\n",
              "      <td>socially</td>\n",
              "      <td>never</td>\n",
              "      <td>in college</td>\n",
              "      <td>student</td>\n",
              "      <td>NaN</td>\n",
              "      <td>NaN</td>\n",
              "      <td>other</td>\n",
              "      <td>libra</td>\n",
              "      <td>no</td>\n",
              "      <td>0</td>\n",
              "    </tr>\n",
              "    <tr>\n",
              "      <th>9631</th>\n",
              "      <td>22</td>\n",
              "      <td>m</td>\n",
              "      <td>straight</td>\n",
              "      <td>fit</td>\n",
              "      <td>anything</td>\n",
              "      <td>socially</td>\n",
              "      <td>never</td>\n",
              "      <td>in college</td>\n",
              "      <td>student</td>\n",
              "      <td>NaN</td>\n",
              "      <td>NaN</td>\n",
              "      <td>other</td>\n",
              "      <td>libra</td>\n",
              "      <td>when drinking</td>\n",
              "      <td>0</td>\n",
              "    </tr>\n",
              "    <tr>\n",
              "      <th>2832</th>\n",
              "      <td>22</td>\n",
              "      <td>m</td>\n",
              "      <td>straight</td>\n",
              "      <td>fit</td>\n",
              "      <td>anything</td>\n",
              "      <td>socially</td>\n",
              "      <td>never</td>\n",
              "      <td>in college</td>\n",
              "      <td>artistic / musical / writer</td>\n",
              "      <td>NaN</td>\n",
              "      <td>NaN</td>\n",
              "      <td>other</td>\n",
              "      <td>libra</td>\n",
              "      <td>no</td>\n",
              "      <td>0</td>\n",
              "    </tr>\n",
              "    <tr>\n",
              "      <th>47940</th>\n",
              "      <td>22</td>\n",
              "      <td>m</td>\n",
              "      <td>straight</td>\n",
              "      <td>fit</td>\n",
              "      <td>anything</td>\n",
              "      <td>socially</td>\n",
              "      <td>never</td>\n",
              "      <td>in college</td>\n",
              "      <td>student</td>\n",
              "      <td>NaN</td>\n",
              "      <td>NaN</td>\n",
              "      <td>christian</td>\n",
              "      <td>libra</td>\n",
              "      <td>no</td>\n",
              "      <td>0</td>\n",
              "    </tr>\n",
              "    <tr>\n",
              "      <th>46779</th>\n",
              "      <td>20</td>\n",
              "      <td>m</td>\n",
              "      <td>straight</td>\n",
              "      <td>fit</td>\n",
              "      <td>anything</td>\n",
              "      <td>socially</td>\n",
              "      <td>never</td>\n",
              "      <td>in college</td>\n",
              "      <td>student</td>\n",
              "      <td>NaN</td>\n",
              "      <td>NaN</td>\n",
              "      <td>other</td>\n",
              "      <td>libra</td>\n",
              "      <td>no</td>\n",
              "      <td>0</td>\n",
              "    </tr>\n",
              "  </tbody>\n",
              "</table>\n",
              "</div>"
            ],
            "text/plain": [
              "       age sex orientation  ...   sign         smokes input_row\n",
              "16938   22   m    straight  ...  libra             no         0\n",
              "9631    22   m    straight  ...  libra  when drinking         0\n",
              "2832    22   m    straight  ...  libra             no         0\n",
              "47940   22   m    straight  ...  libra             no         0\n",
              "46779   20   m    straight  ...  libra             no         0\n",
              "\n",
              "[5 rows x 15 columns]"
            ]
          },
          "metadata": {
            "tags": []
          },
          "execution_count": 380
        }
      ]
    },
    {
      "cell_type": "code",
      "metadata": {
        "id": "Cs6MM7wJczrE"
      },
      "source": [
        "res_in_df  = pd.DataFrame(inputs, columns=list(with_sex_df.columns))\n",
        "res_ma_df = pd.DataFrame(matches, columns=list(with_sex_df.columns))\n",
        "res_sc_df= pd.DataFrame(scores, columns=['scores_model'])\n",
        "res_acc_df = pd.DataFrame(acc, columns=['accuracy'])\n",
        "res_mt_sc_df = pd.DataFrame(sc_mturk, columns=['scores_mturk'])\n",
        "res_mturk_df = pd.DataFrame(mturk_match, columns=with_sex_df.columns)\n"
      ],
      "execution_count": 405,
      "outputs": []
    },
    {
      "cell_type": "code",
      "metadata": {
        "id": "JO4OqmVTvxBe"
      },
      "source": [
        "res_in_df.head()"
      ],
      "execution_count": null,
      "outputs": []
    },
    {
      "cell_type": "code",
      "metadata": {
        "id": "8j9Vt03xvS9s"
      },
      "source": [
        "res_in_df.drop('input_row', axis = 1, inplace = True)\n",
        "res_ma_df.drop('input_row', axis = 1, inplace = True)\n",
        "res_mturk_df.drop('input_row', axis = 1, inplace = True)"
      ],
      "execution_count": 406,
      "outputs": []
    },
    {
      "cell_type": "code",
      "metadata": {
        "id": "NQh45ZDfjcpp"
      },
      "source": [
        "res_ma_df.columns = ['Match.age', 'Match.sex', 'Match.orientation', 'Match.body_type', 'Match.diet', 'Match.drinks', 'Match.drugs', 'Match.education',\n",
        "                    'Match.job', 'Match.offspring', 'Match.pets', 'Match.religion', 'Match.sign', 'Match.smokes']\n",
        "res_mturk_df.columns = ['Mturk.age', 'Mturk.sex', 'Mturk.orientation', 'Mturk.body_type', 'Mturk.diet', 'Mturk.drinks', 'Mturk.drugs', 'Mturk.education',\n",
        "                    'Mturk.job', 'Mturk.offspring', 'Mturk.pets', 'Mturk.religion', 'Mturk.sign', 'Mturk.smokes']                    \n",
        "\n",
        "results_df = pd.concat([res_in_df, res_ma_df,res_mturk_df, res_sc_df, res_mt_sc_df, res_acc_df ], axis = 1)"
      ],
      "execution_count": 407,
      "outputs": []
    },
    {
      "cell_type": "code",
      "metadata": {
        "id": "h4fiunHMjjiJ",
        "colab": {
          "base_uri": "https://localhost:8080/",
          "height": 445
        },
        "outputId": "c4b17eb3-0e71-4e3f-b4c5-65b020845b80"
      },
      "source": [
        "results_df.head()"
      ],
      "execution_count": 408,
      "outputs": [
        {
          "output_type": "execute_result",
          "data": {
            "text/html": [
              "<div>\n",
              "<style scoped>\n",
              "    .dataframe tbody tr th:only-of-type {\n",
              "        vertical-align: middle;\n",
              "    }\n",
              "\n",
              "    .dataframe tbody tr th {\n",
              "        vertical-align: top;\n",
              "    }\n",
              "\n",
              "    .dataframe thead th {\n",
              "        text-align: right;\n",
              "    }\n",
              "</style>\n",
              "<table border=\"1\" class=\"dataframe\">\n",
              "  <thead>\n",
              "    <tr style=\"text-align: right;\">\n",
              "      <th></th>\n",
              "      <th>age</th>\n",
              "      <th>sex</th>\n",
              "      <th>orientation</th>\n",
              "      <th>body_type</th>\n",
              "      <th>diet</th>\n",
              "      <th>drinks</th>\n",
              "      <th>drugs</th>\n",
              "      <th>education</th>\n",
              "      <th>job</th>\n",
              "      <th>offspring</th>\n",
              "      <th>pets</th>\n",
              "      <th>religion</th>\n",
              "      <th>sign</th>\n",
              "      <th>smokes</th>\n",
              "      <th>Match.age</th>\n",
              "      <th>Match.sex</th>\n",
              "      <th>Match.orientation</th>\n",
              "      <th>Match.body_type</th>\n",
              "      <th>Match.diet</th>\n",
              "      <th>Match.drinks</th>\n",
              "      <th>Match.drugs</th>\n",
              "      <th>Match.education</th>\n",
              "      <th>Match.job</th>\n",
              "      <th>Match.offspring</th>\n",
              "      <th>Match.pets</th>\n",
              "      <th>Match.religion</th>\n",
              "      <th>Match.sign</th>\n",
              "      <th>Match.smokes</th>\n",
              "      <th>Mturk.age</th>\n",
              "      <th>Mturk.sex</th>\n",
              "      <th>Mturk.orientation</th>\n",
              "      <th>Mturk.body_type</th>\n",
              "      <th>Mturk.diet</th>\n",
              "      <th>Mturk.drinks</th>\n",
              "      <th>Mturk.drugs</th>\n",
              "      <th>Mturk.education</th>\n",
              "      <th>Mturk.job</th>\n",
              "      <th>Mturk.offspring</th>\n",
              "      <th>Mturk.pets</th>\n",
              "      <th>Mturk.religion</th>\n",
              "      <th>Mturk.sign</th>\n",
              "      <th>Mturk.smokes</th>\n",
              "      <th>scores_model</th>\n",
              "      <th>scores_mturk</th>\n",
              "      <th>accuracy</th>\n",
              "    </tr>\n",
              "  </thead>\n",
              "  <tbody>\n",
              "    <tr>\n",
              "      <th>0</th>\n",
              "      <td>22</td>\n",
              "      <td>m</td>\n",
              "      <td>straight</td>\n",
              "      <td>athletic</td>\n",
              "      <td>mostly anything</td>\n",
              "      <td>socially</td>\n",
              "      <td>never</td>\n",
              "      <td>working on college/university</td>\n",
              "      <td>student</td>\n",
              "      <td>NaN</td>\n",
              "      <td>NaN</td>\n",
              "      <td>NaN</td>\n",
              "      <td>libra</td>\n",
              "      <td>no</td>\n",
              "      <td>22</td>\n",
              "      <td>f</td>\n",
              "      <td>straight</td>\n",
              "      <td>average</td>\n",
              "      <td>anything</td>\n",
              "      <td>socially</td>\n",
              "      <td>never</td>\n",
              "      <td>in college</td>\n",
              "      <td>student</td>\n",
              "      <td>NaN</td>\n",
              "      <td>likes dogs</td>\n",
              "      <td>other</td>\n",
              "      <td>libra</td>\n",
              "      <td>no</td>\n",
              "      <td>36</td>\n",
              "      <td>f</td>\n",
              "      <td>bisexual</td>\n",
              "      <td>NaN</td>\n",
              "      <td>NaN</td>\n",
              "      <td>often</td>\n",
              "      <td>never</td>\n",
              "      <td>dropped out of ph.d program</td>\n",
              "      <td>education / academia</td>\n",
              "      <td>NaN</td>\n",
              "      <td>likes dogs and likes cats</td>\n",
              "      <td>atheism and somewhat serious about it</td>\n",
              "      <td>NaN</td>\n",
              "      <td>when drinking</td>\n",
              "      <td>76.92</td>\n",
              "      <td>30.77</td>\n",
              "      <td>33.33</td>\n",
              "    </tr>\n",
              "    <tr>\n",
              "      <th>1</th>\n",
              "      <td>35</td>\n",
              "      <td>m</td>\n",
              "      <td>gay</td>\n",
              "      <td>average</td>\n",
              "      <td>NaN</td>\n",
              "      <td>NaN</td>\n",
              "      <td>never</td>\n",
              "      <td>NaN</td>\n",
              "      <td>NaN</td>\n",
              "      <td>NaN</td>\n",
              "      <td>NaN</td>\n",
              "      <td>NaN</td>\n",
              "      <td>leo</td>\n",
              "      <td>no</td>\n",
              "      <td>35</td>\n",
              "      <td>m</td>\n",
              "      <td>gay</td>\n",
              "      <td>average</td>\n",
              "      <td>anything</td>\n",
              "      <td>NaN</td>\n",
              "      <td>never</td>\n",
              "      <td>graduated college</td>\n",
              "      <td>NaN</td>\n",
              "      <td>NaN</td>\n",
              "      <td>NaN</td>\n",
              "      <td>other</td>\n",
              "      <td>scorpio</td>\n",
              "      <td>no</td>\n",
              "      <td>37</td>\n",
              "      <td>m</td>\n",
              "      <td>gay</td>\n",
              "      <td>fit</td>\n",
              "      <td>strictly anything</td>\n",
              "      <td>often</td>\n",
              "      <td>sometimes</td>\n",
              "      <td>working on two-year college</td>\n",
              "      <td>student</td>\n",
              "      <td>NaN</td>\n",
              "      <td>likes dogs and has cats</td>\n",
              "      <td>atheism and very serious about it</td>\n",
              "      <td>taurus</td>\n",
              "      <td>no</td>\n",
              "      <td>100.00</td>\n",
              "      <td>66.67</td>\n",
              "      <td>50.00</td>\n",
              "    </tr>\n",
              "    <tr>\n",
              "      <th>2</th>\n",
              "      <td>24</td>\n",
              "      <td>f</td>\n",
              "      <td>bisexual</td>\n",
              "      <td>curvy</td>\n",
              "      <td>mostly vegetarian</td>\n",
              "      <td>socially</td>\n",
              "      <td>NaN</td>\n",
              "      <td>graduated from space camp</td>\n",
              "      <td>student</td>\n",
              "      <td>doesn't want kids</td>\n",
              "      <td>likes dogs and likes cats</td>\n",
              "      <td>NaN</td>\n",
              "      <td>leo</td>\n",
              "      <td>sometimes</td>\n",
              "      <td>24</td>\n",
              "      <td>f</td>\n",
              "      <td>bisexual</td>\n",
              "      <td>average</td>\n",
              "      <td>anything</td>\n",
              "      <td>socially</td>\n",
              "      <td>NaN</td>\n",
              "      <td>graduated college</td>\n",
              "      <td>student</td>\n",
              "      <td>NaN</td>\n",
              "      <td>likes dogs and likes cats</td>\n",
              "      <td>judaism</td>\n",
              "      <td>cancer</td>\n",
              "      <td>sometimes</td>\n",
              "      <td>22</td>\n",
              "      <td>m</td>\n",
              "      <td>straight</td>\n",
              "      <td>fit</td>\n",
              "      <td>mostly other</td>\n",
              "      <td>socially</td>\n",
              "      <td>never</td>\n",
              "      <td>working on college/university</td>\n",
              "      <td>artistic / musical / writer</td>\n",
              "      <td>NaN</td>\n",
              "      <td>likes cats</td>\n",
              "      <td>atheism but not too serious about it</td>\n",
              "      <td>aries but it doesn't matter</td>\n",
              "      <td>no</td>\n",
              "      <td>71.43</td>\n",
              "      <td>28.57</td>\n",
              "      <td>28.57</td>\n",
              "    </tr>\n",
              "    <tr>\n",
              "      <th>3</th>\n",
              "      <td>53</td>\n",
              "      <td>m</td>\n",
              "      <td>straight</td>\n",
              "      <td>athletic</td>\n",
              "      <td>mostly vegetarian</td>\n",
              "      <td>socially</td>\n",
              "      <td>NaN</td>\n",
              "      <td>graduated from college/university</td>\n",
              "      <td>political / government</td>\n",
              "      <td>doesn't have kids, but wants them</td>\n",
              "      <td>likes dogs and likes cats</td>\n",
              "      <td>atheism and laughing about it</td>\n",
              "      <td>capricorn and its fun to think about</td>\n",
              "      <td>no</td>\n",
              "      <td>24</td>\n",
              "      <td>f</td>\n",
              "      <td>straight</td>\n",
              "      <td>fit</td>\n",
              "      <td>vegetarian</td>\n",
              "      <td>socially</td>\n",
              "      <td>NaN</td>\n",
              "      <td>in college</td>\n",
              "      <td>sales / marketing / biz dev</td>\n",
              "      <td>NaN</td>\n",
              "      <td>NaN</td>\n",
              "      <td>other</td>\n",
              "      <td>capricorn</td>\n",
              "      <td>no</td>\n",
              "      <td>33</td>\n",
              "      <td>f</td>\n",
              "      <td>bisexual</td>\n",
              "      <td>fit</td>\n",
              "      <td>NaN</td>\n",
              "      <td>NaN</td>\n",
              "      <td>never</td>\n",
              "      <td>NaN</td>\n",
              "      <td>sales / marketing / biz dev</td>\n",
              "      <td>doesn't have kids</td>\n",
              "      <td>NaN</td>\n",
              "      <td>NaN</td>\n",
              "      <td>NaN</td>\n",
              "      <td>no</td>\n",
              "      <td>40.00</td>\n",
              "      <td>26.67</td>\n",
              "      <td>53.85</td>\n",
              "    </tr>\n",
              "    <tr>\n",
              "      <th>4</th>\n",
              "      <td>20</td>\n",
              "      <td>m</td>\n",
              "      <td>straight</td>\n",
              "      <td>skinny</td>\n",
              "      <td>mostly anything</td>\n",
              "      <td>socially</td>\n",
              "      <td>never</td>\n",
              "      <td>working on college/university</td>\n",
              "      <td>student</td>\n",
              "      <td>doesn't have kids</td>\n",
              "      <td>NaN</td>\n",
              "      <td>NaN</td>\n",
              "      <td>scorpio</td>\n",
              "      <td>no</td>\n",
              "      <td>20</td>\n",
              "      <td>f</td>\n",
              "      <td>straight</td>\n",
              "      <td>thin</td>\n",
              "      <td>anything</td>\n",
              "      <td>socially</td>\n",
              "      <td>never</td>\n",
              "      <td>in college</td>\n",
              "      <td>student</td>\n",
              "      <td>NaN</td>\n",
              "      <td>likes dogs</td>\n",
              "      <td>other</td>\n",
              "      <td>scorpio</td>\n",
              "      <td>no</td>\n",
              "      <td>35</td>\n",
              "      <td>f</td>\n",
              "      <td>straight</td>\n",
              "      <td>fit</td>\n",
              "      <td>anything</td>\n",
              "      <td>often</td>\n",
              "      <td>never</td>\n",
              "      <td>graduated from college/university</td>\n",
              "      <td>NaN</td>\n",
              "      <td>doesn't have kids, and doesn't want any</td>\n",
              "      <td>NaN</td>\n",
              "      <td>agnosticism and laughing about it</td>\n",
              "      <td>libra and its fun to think about</td>\n",
              "      <td>no</td>\n",
              "      <td>71.43</td>\n",
              "      <td>42.86</td>\n",
              "      <td>53.33</td>\n",
              "    </tr>\n",
              "  </tbody>\n",
              "</table>\n",
              "</div>"
            ],
            "text/plain": [
              "   age sex orientation  ... scores_model scores_mturk accuracy\n",
              "0   22   m    straight  ...        76.92        30.77    33.33\n",
              "1   35   m         gay  ...       100.00        66.67    50.00\n",
              "2   24   f    bisexual  ...        71.43        28.57    28.57\n",
              "3   53   m    straight  ...        40.00        26.67    53.85\n",
              "4   20   m    straight  ...        71.43        42.86    53.33\n",
              "\n",
              "[5 rows x 45 columns]"
            ]
          },
          "metadata": {
            "tags": []
          },
          "execution_count": 408
        }
      ]
    },
    {
      "cell_type": "code",
      "metadata": {
        "colab": {
          "base_uri": "https://localhost:8080/",
          "height": 448
        },
        "id": "K9l6-x4uxasW",
        "outputId": "96e2cf59-7649-44ad-a257-53896c6df9bb"
      },
      "source": [
        "import seaborn as sns\n",
        "import matplotlib.pyplot as plt\n",
        "sns.set_theme(style=\"darkgrid\")\n",
        "ax = sns.countplot(x=\"scores_model\", data=results_df)\n",
        "plt.xticks(rotation=90)\n"
      ],
      "execution_count": 401,
      "outputs": [
        {
          "output_type": "execute_result",
          "data": {
            "text/plain": [
              "(array([ 0,  1,  2,  3,  4,  5,  6,  7,  8,  9, 10, 11, 12, 13, 14, 15, 16,\n",
              "        17, 18, 19, 20, 21, 22, 23, 24, 25, 26, 27]),\n",
              " <a list of 28 Text major ticklabel objects>)"
            ]
          },
          "metadata": {
            "tags": []
          },
          "execution_count": 401
        },
        {
          "output_type": "display_data",
          "data": {
            "image/png": "[encoded data removed]",
            "text/plain": [
              "<Figure size 432x288 with 1 Axes>"
            ]
          },
          "metadata": {
            "tags": []
          }
        }
      ]
    },
    {
      "cell_type": "code",
      "metadata": {
        "colab": {
          "base_uri": "https://localhost:8080/",
          "height": 357
        },
        "id": "6FdyU1jwASy2",
        "outputId": "d4771dab-591b-4237-9d57-8f6a9bf9fdcc"
      },
      "source": [
        "import seaborn as sns\n",
        "import matplotlib.pyplot as plt\n",
        "sns.set_theme(style=\"darkgrid\")\n",
        "ax = sns.countplot(x=\"scores_mturk\", data=results_df)\n",
        "plt.xticks(rotation=90)"
      ],
      "execution_count": 409,
      "outputs": [
        {
          "output_type": "execute_result",
          "data": {
            "text/plain": [
              "(array([ 0,  1,  2,  3,  4,  5,  6,  7,  8,  9, 10, 11, 12, 13, 14, 15, 16,\n",
              "        17, 18, 19, 20, 21, 22, 23, 24, 25, 26, 27, 28]),\n",
              " <a list of 29 Text major ticklabel objects>)"
            ]
          },
          "metadata": {
            "tags": []
          },
          "execution_count": 409
        },
        {
          "output_type": "display_data",
          "data": {
            "image/png": "[encoded data removed]",
            "text/plain": [
              "<Figure size 432x288 with 1 Axes>"
            ]
          },
          "metadata": {
            "tags": []
          }
        }
      ]
    },
    {
      "cell_type": "code",
      "metadata": {
        "colab": {
          "base_uri": "https://localhost:8080/",
          "height": 340
        },
        "id": "5I7RDixUAZ-h",
        "outputId": "db33a9b2-bd30-4a0d-f04d-251dedd193ab"
      },
      "source": [
        "import seaborn as sns\n",
        "import matplotlib.pyplot as plt\n",
        "sns.set_theme(style=\"darkgrid\")\n",
        "ax = sns.countplot(x=\"accuracy\", data=results_df)\n",
        "plt.xticks(rotation=90)"
      ],
      "execution_count": 410,
      "outputs": [
        {
          "output_type": "execute_result",
          "data": {
            "text/plain": [
              "(array([ 0,  1,  2,  3,  4,  5,  6,  7,  8,  9, 10, 11, 12, 13, 14, 15, 16,\n",
              "        17, 18, 19, 20]), <a list of 21 Text major ticklabel objects>)"
            ]
          },
          "metadata": {
            "tags": []
          },
          "execution_count": 410
        },
        {
          "output_type": "display_data",
          "data": {
            "image/png": "[encoded data removed]",
            "text/plain": [
              "<Figure size 432x288 with 1 Axes>"
            ]
          },
          "metadata": {
            "tags": []
          }
        }
      ]
    },
    {
      "cell_type": "code",
      "metadata": {
        "id": "h2ezJBhiwpDU"
      },
      "source": [
        "results_df.to_csv('/content/drive/MyDrive/results.csv', index=False)"
      ],
      "execution_count": 411,
      "outputs": []
    }
  ]
}